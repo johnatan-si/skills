{
 "cells": [
  {
   "cell_type": "markdown",
   "metadata": {},
   "source": [
    "# Path projects  of the developer"
   ]
  },
  {
   "cell_type": "markdown",
   "metadata": {},
   "source": [
    "# Get name and photo of the developer \n",
    "\n",
    "from IPython.display import clear_output\n",
    "clear_output(wait=True)\n",
    "\n",
    "import requests\n",
    "\n",
    "gitUserName=\"aleen42\"\n",
    "url = 'https://api.github.com/users/'+gitUserName\n",
    "data = requests.get(url).json()\n",
    "authorTarget=data['name']\n",
    "avatar_url=data['avatar_url']\n",
    "#email=data['email']"
   ]
  },
  {
   "cell_type": "code",
   "execution_count": 1,
   "metadata": {},
   "outputs": [],
   "source": [
    "from IPython.display import clear_output \n",
    "\n",
    "clear_output(wait=True)\n",
    "\n",
    "import requests\n",
    "\n",
    "gitUserName=\"arora-aditya\" \n",
    "\n",
    "username = 'cleitonsilvat'\n",
    "token = '348141effb41cf4c95f201a7d126b2c68ff002c4'\n",
    "\n",
    "data = requests.get('https://api.github.com/users/'+gitUserName, auth=(username,token)).json()\n",
    "\n",
    "authorTarget=data['name'] \n",
    "avatar_url=data['avatar_url']\n"
   ]
  },
  {
   "cell_type": "code",
   "execution_count": null,
   "metadata": {},
   "outputs": [],
   "source": []
  },
  {
   "cell_type": "markdown",
   "metadata": {},
   "source": [
    "import csv\n",
    "row_list = [[gitUserName, email]]\n",
    "\n",
    "with open('/media/johnatan/SAMSUNG/emails.csv', 'a', newline='') as file:\n",
    "    writer = csv.writer(file, quoting=csv.QUOTE_NONNUMERIC, delimiter=';')\n",
    "    writer.writerows(row_list)"
   ]
  },
  {
   "cell_type": "code",
   "execution_count": 2,
   "metadata": {},
   "outputs": [],
   "source": [
    "import os  \n",
    "\n",
    "pathProjects=\"/media/johnatan/SAMSUNG/SANER2021/\"+gitUserName+\"/\"\n",
    "pathProjectsO=pathProjects\n",
    "os.chdir(pathProjects)\n",
    "\n",
    "try:\n",
    "    os.remove(\".ghcloneallrc\")\n",
    "    os.remove(\".httpcache.sqlite\")\n",
    "except:\n",
    "    print(\"Not there are\")"
   ]
  },
  {
   "cell_type": "code",
   "execution_count": 3,
   "metadata": {},
   "outputs": [],
   "source": [
    "from scipy.interpolate import interp1d\n",
    "import numpy as np\n",
    "\n",
    "import shlex\n",
    "import subprocess as sp\n",
    "\n",
    "import prettyplotlib as ppl\n",
    "from matplotlib import pyplot as plt\n",
    "from matplotlib.ticker import FuncFormatter\n",
    "import io\n",
    "from pandas import read_csv\n",
    "\n",
    "import pandas as pd\n",
    "import os\n",
    "from pandas import read_csv\n",
    "\n",
    "filenames= os.listdir (\".\")\n",
    "commit_data = pd.DataFrame()\n",
    "commit_data2 = pd.DataFrame()\n",
    "commit_dataEmail = pd.DataFrame()\n",
    "\n",
    "\n",
    "\n",
    "for file in filenames:\n",
    "    os.chdir(pathProjects+file)\n",
    "    #cmd = \"git log --no-merges --author='\"+authorTarget+\"' --name-status --pretty='format:'\"\n",
    "    cmd=\"git log --no-renames --numstat --author='\"+authorTarget+\"' --pretty=format:'%x09%x09%x09%aN%ce'\"\n",
    "    p = sp.Popen(shlex.split(cmd), stdout=sp.PIPE)\n",
    "    stdout, _ = p.communicate()\n",
    "    os.chdir(pathProjects)\n",
    "    table = read_csv(io.StringIO(stdout.decode('utf-8')), sep='\\t',names=['additions', 'deletions', 'path','author'],parse_dates=True).fillna(method='ffill').dropna()\n",
    "    temp = pd.DataFrame(table)\n",
    "    temp = temp.drop_duplicates(subset='path', keep='first')\n",
    "    commit_data = pd.concat([commit_data, temp])   \n"
   ]
  },
  {
   "cell_type": "code",
   "execution_count": 4,
   "metadata": {},
   "outputs": [
    {
     "data": {
      "text/html": [
       "<div>\n",
       "<style scoped>\n",
       "    .dataframe tbody tr th:only-of-type {\n",
       "        vertical-align: middle;\n",
       "    }\n",
       "\n",
       "    .dataframe tbody tr th {\n",
       "        vertical-align: top;\n",
       "    }\n",
       "\n",
       "    .dataframe thead th {\n",
       "        text-align: right;\n",
       "    }\n",
       "</style>\n",
       "<table border=\"1\" class=\"dataframe\">\n",
       "  <thead>\n",
       "    <tr style=\"text-align: right;\">\n",
       "      <th></th>\n",
       "      <th>additions</th>\n",
       "      <th>deletions</th>\n",
       "      <th>path</th>\n",
       "      <th>author</th>\n",
       "    </tr>\n",
       "  </thead>\n",
       "  <tbody>\n",
       "    <tr>\n",
       "      <th>1</th>\n",
       "      <td>11</td>\n",
       "      <td>0</td>\n",
       "      <td>README.md</td>\n",
       "      <td>Aditya Aroranoreply@github.com</td>\n",
       "    </tr>\n",
       "    <tr>\n",
       "      <th>1</th>\n",
       "      <td>9</td>\n",
       "      <td>9</td>\n",
       "      <td>src/components/navbar/index.tsx</td>\n",
       "      <td>Aditya Arora10962267+arora-aditya@users.norepl...</td>\n",
       "    </tr>\n",
       "    <tr>\n",
       "      <th>3</th>\n",
       "      <td>1</td>\n",
       "      <td>0</td>\n",
       "      <td>public/_redirects</td>\n",
       "      <td>Aditya Arora10962267+arora-aditya@users.norepl...</td>\n",
       "    </tr>\n",
       "    <tr>\n",
       "      <th>4</th>\n",
       "      <td>3</td>\n",
       "      <td>3</td>\n",
       "      <td>src/App.tsx</td>\n",
       "      <td>Aditya Arora10962267+arora-aditya@users.norepl...</td>\n",
       "    </tr>\n",
       "    <tr>\n",
       "      <th>6</th>\n",
       "      <td>0</td>\n",
       "      <td>29</td>\n",
       "      <td>.github/workflows/deploy-to-gh-pages.yml</td>\n",
       "      <td>Aditya Arora10962267+arora-aditya@users.norepl...</td>\n",
       "    </tr>\n",
       "    <tr>\n",
       "      <th>...</th>\n",
       "      <td>...</td>\n",
       "      <td>...</td>\n",
       "      <td>...</td>\n",
       "      <td>...</td>\n",
       "    </tr>\n",
       "    <tr>\n",
       "      <th>5</th>\n",
       "      <td>1</td>\n",
       "      <td>1</td>\n",
       "      <td>index.html</td>\n",
       "      <td>Aditya Aroranoreply@github.com</td>\n",
       "    </tr>\n",
       "    <tr>\n",
       "      <th>23</th>\n",
       "      <td>16910</td>\n",
       "      <td>0</td>\n",
       "      <td>d3.v4.js</td>\n",
       "      <td>Aditya Aroranoreply@github.com</td>\n",
       "    </tr>\n",
       "    <tr>\n",
       "      <th>24</th>\n",
       "      <td>4</td>\n",
       "      <td>0</td>\n",
       "      <td>jquery.js</td>\n",
       "      <td>Aditya Aroranoreply@github.com</td>\n",
       "    </tr>\n",
       "    <tr>\n",
       "      <th>26</th>\n",
       "      <td>-</td>\n",
       "      <td>-</td>\n",
       "      <td>speedReading.gif</td>\n",
       "      <td>Aditya Aroranoreply@github.com</td>\n",
       "    </tr>\n",
       "    <tr>\n",
       "      <th>28</th>\n",
       "      <td>-</td>\n",
       "      <td>-</td>\n",
       "      <td>speedReading.mp4</td>\n",
       "      <td>Aditya Aroranoreply@github.com</td>\n",
       "    </tr>\n",
       "  </tbody>\n",
       "</table>\n",
       "<p>5692 rows × 4 columns</p>\n",
       "</div>"
      ],
      "text/plain": [
       "   additions deletions                                      path  \\\n",
       "1         11         0                                 README.md   \n",
       "1          9         9           src/components/navbar/index.tsx   \n",
       "3          1         0                         public/_redirects   \n",
       "4          3         3                               src/App.tsx   \n",
       "6          0        29  .github/workflows/deploy-to-gh-pages.yml   \n",
       "..       ...       ...                                       ...   \n",
       "5          1         1                                index.html   \n",
       "23     16910         0                                  d3.v4.js   \n",
       "24         4         0                                 jquery.js   \n",
       "26         -         -                          speedReading.gif   \n",
       "28         -         -                          speedReading.mp4   \n",
       "\n",
       "                                               author  \n",
       "1                      Aditya Aroranoreply@github.com  \n",
       "1   Aditya Arora10962267+arora-aditya@users.norepl...  \n",
       "3   Aditya Arora10962267+arora-aditya@users.norepl...  \n",
       "4   Aditya Arora10962267+arora-aditya@users.norepl...  \n",
       "6   Aditya Arora10962267+arora-aditya@users.norepl...  \n",
       "..                                                ...  \n",
       "5                      Aditya Aroranoreply@github.com  \n",
       "23                     Aditya Aroranoreply@github.com  \n",
       "24                     Aditya Aroranoreply@github.com  \n",
       "26                     Aditya Aroranoreply@github.com  \n",
       "28                     Aditya Aroranoreply@github.com  \n",
       "\n",
       "[5692 rows x 4 columns]"
      ]
     },
     "execution_count": 4,
     "metadata": {},
     "output_type": "execute_result"
    }
   ],
   "source": [
    "commit_data"
   ]
  },
  {
   "cell_type": "code",
   "execution_count": 5,
   "metadata": {},
   "outputs": [],
   "source": [
    "#emails=commit_data.drop_duplicates(['author'])\n",
    "\n",
    "#email=emails['author'].iloc[0]\n",
    "#email\n",
    "#cmd=\"git log --no-renames --numstat --author='\"+authorTarget+\"' --pretty=format:'%x09%x09%x09%aN%ce'\"\n"
   ]
  },
  {
   "cell_type": "markdown",
   "metadata": {},
   "source": [
    "import csv \n",
    "\n",
    "#emails=commit_dataEmail.drop_duplicates(['email'])\n",
    "\n",
    "#email=emails['email'].iloc[0]\n",
    "\n",
    "row_list = [[gitUserName, email]]\n",
    "\n",
    "with open('/media/johnatan/SAMSUNG/emails2.csv', 'a', newline='') as file: \n",
    "    writer = csv.writer(file, quoting=csv.QUOTE_NONNUMERIC, delimiter=';') \n",
    "    writer.writerows(row_list)"
   ]
  },
  {
   "cell_type": "code",
   "execution_count": 6,
   "metadata": {},
   "outputs": [
    {
     "data": {
      "text/html": [
       "<div>\n",
       "<style scoped>\n",
       "    .dataframe tbody tr th:only-of-type {\n",
       "        vertical-align: middle;\n",
       "    }\n",
       "\n",
       "    .dataframe tbody tr th {\n",
       "        vertical-align: top;\n",
       "    }\n",
       "\n",
       "    .dataframe thead th {\n",
       "        text-align: right;\n",
       "    }\n",
       "</style>\n",
       "<table border=\"1\" class=\"dataframe\">\n",
       "  <thead>\n",
       "    <tr style=\"text-align: right;\">\n",
       "      <th></th>\n",
       "      <th>additions</th>\n",
       "      <th>deletions</th>\n",
       "      <th>path</th>\n",
       "      <th>author</th>\n",
       "      <th>Test</th>\n",
       "    </tr>\n",
       "  </thead>\n",
       "  <tbody>\n",
       "    <tr>\n",
       "      <th>1</th>\n",
       "      <td>11</td>\n",
       "      <td>0</td>\n",
       "      <td>README.md</td>\n",
       "      <td>Aditya Aroranoreply@github.com</td>\n",
       "      <td>False</td>\n",
       "    </tr>\n",
       "    <tr>\n",
       "      <th>1</th>\n",
       "      <td>9</td>\n",
       "      <td>9</td>\n",
       "      <td>src/components/navbar/index.tsx</td>\n",
       "      <td>Aditya Arora10962267+arora-aditya@users.norepl...</td>\n",
       "      <td>False</td>\n",
       "    </tr>\n",
       "    <tr>\n",
       "      <th>3</th>\n",
       "      <td>1</td>\n",
       "      <td>0</td>\n",
       "      <td>public/_redirects</td>\n",
       "      <td>Aditya Arora10962267+arora-aditya@users.norepl...</td>\n",
       "      <td>False</td>\n",
       "    </tr>\n",
       "    <tr>\n",
       "      <th>4</th>\n",
       "      <td>3</td>\n",
       "      <td>3</td>\n",
       "      <td>src/App.tsx</td>\n",
       "      <td>Aditya Arora10962267+arora-aditya@users.norepl...</td>\n",
       "      <td>False</td>\n",
       "    </tr>\n",
       "    <tr>\n",
       "      <th>6</th>\n",
       "      <td>0</td>\n",
       "      <td>29</td>\n",
       "      <td>.github/workflows/deploy-to-gh-pages.yml</td>\n",
       "      <td>Aditya Arora10962267+arora-aditya@users.norepl...</td>\n",
       "      <td>False</td>\n",
       "    </tr>\n",
       "  </tbody>\n",
       "</table>\n",
       "</div>"
      ],
      "text/plain": [
       "  additions deletions                                      path  \\\n",
       "1        11         0                                 README.md   \n",
       "1         9         9           src/components/navbar/index.tsx   \n",
       "3         1         0                         public/_redirects   \n",
       "4         3         3                               src/App.tsx   \n",
       "6         0        29  .github/workflows/deploy-to-gh-pages.yml   \n",
       "\n",
       "                                              author   Test  \n",
       "1                     Aditya Aroranoreply@github.com  False  \n",
       "1  Aditya Arora10962267+arora-aditya@users.norepl...  False  \n",
       "3  Aditya Arora10962267+arora-aditya@users.norepl...  False  \n",
       "4  Aditya Arora10962267+arora-aditya@users.norepl...  False  \n",
       "6  Aditya Arora10962267+arora-aditya@users.norepl...  False  "
      ]
     },
     "execution_count": 6,
     "metadata": {},
     "output_type": "execute_result"
    }
   ],
   "source": [
    "#Identify testers (Matheus)\n",
    "\n",
    "commit_data['Test'] = commit_data['path'].str.contains(r'/test/|/tests/',regex=True)\n",
    "commit_data.head()"
   ]
  },
  {
   "cell_type": "code",
   "execution_count": 7,
   "metadata": {},
   "outputs": [
    {
     "data": {
      "text/html": [
       "<div>\n",
       "<style scoped>\n",
       "    .dataframe tbody tr th:only-of-type {\n",
       "        vertical-align: middle;\n",
       "    }\n",
       "\n",
       "    .dataframe tbody tr th {\n",
       "        vertical-align: top;\n",
       "    }\n",
       "\n",
       "    .dataframe thead th {\n",
       "        text-align: right;\n",
       "    }\n",
       "</style>\n",
       "<table border=\"1\" class=\"dataframe\">\n",
       "  <thead>\n",
       "    <tr style=\"text-align: right;\">\n",
       "      <th></th>\n",
       "      <th>additions</th>\n",
       "      <th>deletions</th>\n",
       "      <th>path</th>\n",
       "      <th>author</th>\n",
       "      <th>Test</th>\n",
       "    </tr>\n",
       "  </thead>\n",
       "  <tbody>\n",
       "    <tr>\n",
       "      <th>391</th>\n",
       "      <td>2</td>\n",
       "      <td>1</td>\n",
       "      <td>DPLL/test/sample18.cnf</td>\n",
       "      <td>Aditya Arora10962267+arora-aditya@users.norepl...</td>\n",
       "      <td>True</td>\n",
       "    </tr>\n",
       "    <tr>\n",
       "      <th>392</th>\n",
       "      <td>2</td>\n",
       "      <td>1</td>\n",
       "      <td>DPLL/test/sample20.cnf</td>\n",
       "      <td>Aditya Arora10962267+arora-aditya@users.norepl...</td>\n",
       "      <td>True</td>\n",
       "    </tr>\n",
       "    <tr>\n",
       "      <th>393</th>\n",
       "      <td>2</td>\n",
       "      <td>1</td>\n",
       "      <td>DPLL/test/sample21.cnf</td>\n",
       "      <td>Aditya Arora10962267+arora-aditya@users.norepl...</td>\n",
       "      <td>True</td>\n",
       "    </tr>\n",
       "    <tr>\n",
       "      <th>394</th>\n",
       "      <td>2</td>\n",
       "      <td>1</td>\n",
       "      <td>DPLL/test/sample28.cnf</td>\n",
       "      <td>Aditya Arora10962267+arora-aditya@users.norepl...</td>\n",
       "      <td>True</td>\n",
       "    </tr>\n",
       "    <tr>\n",
       "      <th>395</th>\n",
       "      <td>2</td>\n",
       "      <td>1</td>\n",
       "      <td>DPLL/test/sample40.cnf</td>\n",
       "      <td>Aditya Arora10962267+arora-aditya@users.norepl...</td>\n",
       "      <td>True</td>\n",
       "    </tr>\n",
       "  </tbody>\n",
       "</table>\n",
       "</div>"
      ],
      "text/plain": [
       "    additions deletions                    path  \\\n",
       "391         2         1  DPLL/test/sample18.cnf   \n",
       "392         2         1  DPLL/test/sample20.cnf   \n",
       "393         2         1  DPLL/test/sample21.cnf   \n",
       "394         2         1  DPLL/test/sample28.cnf   \n",
       "395         2         1  DPLL/test/sample40.cnf   \n",
       "\n",
       "                                                author  Test  \n",
       "391  Aditya Arora10962267+arora-aditya@users.norepl...  True  \n",
       "392  Aditya Arora10962267+arora-aditya@users.norepl...  True  \n",
       "393  Aditya Arora10962267+arora-aditya@users.norepl...  True  \n",
       "394  Aditya Arora10962267+arora-aditya@users.norepl...  True  \n",
       "395  Aditya Arora10962267+arora-aditya@users.norepl...  True  "
      ]
     },
     "execution_count": 7,
     "metadata": {},
     "output_type": "execute_result"
    }
   ],
   "source": [
    "data_tests = commit_data[commit_data['Test']==True]\n",
    "data_tests.head()"
   ]
  },
  {
   "cell_type": "markdown",
   "metadata": {},
   "source": [
    "# Count test files"
   ]
  },
  {
   "cell_type": "code",
   "execution_count": 8,
   "metadata": {},
   "outputs": [
    {
     "data": {
      "text/plain": [
       "240"
      ]
     },
     "execution_count": 8,
     "metadata": {},
     "output_type": "execute_result"
    }
   ],
   "source": [
    "count_tests = len(data_tests)\n",
    "count_tests"
   ]
  },
  {
   "cell_type": "code",
   "execution_count": 9,
   "metadata": {},
   "outputs": [
    {
     "name": "stderr",
     "output_type": "stream",
     "text": [
      "/home/johnatan/.local/lib/python3.6/site-packages/ipykernel_launcher.py:1: SettingWithCopyWarning: \n",
      "A value is trying to be set on a copy of a slice from a DataFrame.\n",
      "Try using .loc[row_indexer,col_indexer] = value instead\n",
      "\n",
      "See the caveats in the documentation: https://pandas.pydata.org/pandas-docs/stable/user_guide/indexing.html#returning-a-view-versus-a-copy\n",
      "  \"\"\"Entry point for launching an IPython kernel.\n",
      "/home/johnatan/.local/lib/python3.6/site-packages/ipykernel_launcher.py:2: SettingWithCopyWarning: \n",
      "A value is trying to be set on a copy of a slice from a DataFrame.\n",
      "Try using .loc[row_indexer,col_indexer] = value instead\n",
      "\n",
      "See the caveats in the documentation: https://pandas.pydata.org/pandas-docs/stable/user_guide/indexing.html#returning-a-view-versus-a-copy\n",
      "  \n"
     ]
    }
   ],
   "source": [
    "data_tests['additions']=data_tests['additions'].astype(str)\n",
    "data_tests['deletions']=data_tests['deletions'].astype(str)"
   ]
  },
  {
   "cell_type": "markdown",
   "metadata": {},
   "source": [
    "# Count  LOC test "
   ]
  },
  {
   "cell_type": "code",
   "execution_count": 10,
   "metadata": {},
   "outputs": [
    {
     "name": "stderr",
     "output_type": "stream",
     "text": [
      "/home/johnatan/.local/lib/python3.6/site-packages/ipykernel_launcher.py:8: SettingWithCopyWarning: \n",
      "A value is trying to be set on a copy of a slice from a DataFrame.\n",
      "Try using .loc[row_indexer,col_indexer] = value instead\n",
      "\n",
      "See the caveats in the documentation: https://pandas.pydata.org/pandas-docs/stable/user_guide/indexing.html#returning-a-view-versus-a-copy\n",
      "  \n"
     ]
    }
   ],
   "source": [
    "# we comput additions+deletions= total  wrote \n",
    "from pathlib import Path\n",
    "\n",
    "if count_tests != 0:\n",
    "    \n",
    "    dfTestLoc=pd.DataFrame()\n",
    "    data_tests.filter(items=['path'])\n",
    "    data_tests['path']=data_tests.path.str.rsplit('.', 1).str[-1]\n",
    "    \n",
    "\n",
    "    data_tests.loc[data_tests['additions'].str.contains(r'[-]+') == False]\n",
    "    data_tests.loc[data_tests['deletions'].str.contains(r'[-]+') == False]\n",
    "\n",
    "    data_tests=data_tests.replace('\\-',0,regex=True)#.astype(int)\n",
    "\n",
    "    data_tests['deletions'] = data_tests['deletions'].astype(float)\n",
    "    data_tests['additions'] = data_tests['additions'].astype(float)\n",
    "    \n",
    "    data_tests['deletions'] = data_tests['deletions'].astype(int)\n",
    "    data_tests['additions'] = data_tests['additions'].astype(int)\n",
    "\n",
    "\n",
    "\n",
    "    data_tests['loc'] = data_tests.apply(lambda x: x['additions'] + x['deletions'], axis=1)\n",
    "    dfTestLoc=data_tests\n",
    "\n",
    "\n",
    "    dfTestLoc=dfTestLoc.groupby(['path'])['loc'].agg('sum')\n",
    "\n",
    "    dfTestLoc= dfTestLoc.reset_index() \n",
    "    dfTestLoc.head()\n",
    "\n"
   ]
  },
  {
   "cell_type": "code",
   "execution_count": 11,
   "metadata": {},
   "outputs": [],
   "source": [
    "#dfTestLoc.head()"
   ]
  },
  {
   "cell_type": "code",
   "execution_count": 12,
   "metadata": {},
   "outputs": [],
   "source": [
    "if count_tests != 0:\n",
    "    locTest=dfTestLoc['loc'].sum()\n",
    "    locTest"
   ]
  },
  {
   "cell_type": "code",
   "execution_count": 13,
   "metadata": {},
   "outputs": [
    {
     "data": {
      "text/plain": [
       "29"
      ]
     },
     "execution_count": 13,
     "metadata": {},
     "output_type": "execute_result"
    }
   ],
   "source": [
    "import os\n",
    "os.chdir(pathProjects)\n",
    "\n",
    "\n",
    "filenames= os.listdir (\".\") # get all files' and folders' names in the current directory\n",
    "\n",
    "result = []\n",
    "for filename in filenames: # loop through all the files and folders\n",
    "    if os.path.isdir(os.path.join(os.path.abspath(\".\"), filename)): # check whether the current object is a folder or not\n",
    "        result.append(filename)\n",
    "        \n",
    "result.sort()\n",
    "\n",
    "len(result)\n",
    "#result"
   ]
  },
  {
   "cell_type": "markdown",
   "metadata": {},
   "source": [
    "# File extensions"
   ]
  },
  {
   "cell_type": "code",
   "execution_count": 14,
   "metadata": {},
   "outputs": [
    {
     "data": {
      "text/html": [
       "<div>\n",
       "<style scoped>\n",
       "    .dataframe tbody tr th:only-of-type {\n",
       "        vertical-align: middle;\n",
       "    }\n",
       "\n",
       "    .dataframe tbody tr th {\n",
       "        vertical-align: top;\n",
       "    }\n",
       "\n",
       "    .dataframe thead th {\n",
       "        text-align: right;\n",
       "    }\n",
       "</style>\n",
       "<table border=\"1\" class=\"dataframe\">\n",
       "  <thead>\n",
       "    <tr style=\"text-align: right;\">\n",
       "      <th></th>\n",
       "      <th>additions</th>\n",
       "      <th>deletions</th>\n",
       "      <th>path</th>\n",
       "      <th>author</th>\n",
       "      <th>Test</th>\n",
       "    </tr>\n",
       "  </thead>\n",
       "  <tbody>\n",
       "    <tr>\n",
       "      <th>1</th>\n",
       "      <td>11</td>\n",
       "      <td>0</td>\n",
       "      <td>md</td>\n",
       "      <td>Aditya Aroranoreply@github.com</td>\n",
       "      <td>False</td>\n",
       "    </tr>\n",
       "    <tr>\n",
       "      <th>1</th>\n",
       "      <td>9</td>\n",
       "      <td>9</td>\n",
       "      <td>tsx</td>\n",
       "      <td>Aditya Arora10962267+arora-aditya@users.norepl...</td>\n",
       "      <td>False</td>\n",
       "    </tr>\n",
       "    <tr>\n",
       "      <th>3</th>\n",
       "      <td>1</td>\n",
       "      <td>0</td>\n",
       "      <td>public/_redirects</td>\n",
       "      <td>Aditya Arora10962267+arora-aditya@users.norepl...</td>\n",
       "      <td>False</td>\n",
       "    </tr>\n",
       "    <tr>\n",
       "      <th>4</th>\n",
       "      <td>3</td>\n",
       "      <td>3</td>\n",
       "      <td>tsx</td>\n",
       "      <td>Aditya Arora10962267+arora-aditya@users.norepl...</td>\n",
       "      <td>False</td>\n",
       "    </tr>\n",
       "    <tr>\n",
       "      <th>6</th>\n",
       "      <td>0</td>\n",
       "      <td>29</td>\n",
       "      <td>yml</td>\n",
       "      <td>Aditya Arora10962267+arora-aditya@users.norepl...</td>\n",
       "      <td>False</td>\n",
       "    </tr>\n",
       "  </tbody>\n",
       "</table>\n",
       "</div>"
      ],
      "text/plain": [
       "  additions deletions               path  \\\n",
       "1        11         0                 md   \n",
       "1         9         9                tsx   \n",
       "3         1         0  public/_redirects   \n",
       "4         3         3                tsx   \n",
       "6         0        29                yml   \n",
       "\n",
       "                                              author   Test  \n",
       "1                     Aditya Aroranoreply@github.com  False  \n",
       "1  Aditya Arora10962267+arora-aditya@users.norepl...  False  \n",
       "3  Aditya Arora10962267+arora-aditya@users.norepl...  False  \n",
       "4  Aditya Arora10962267+arora-aditya@users.norepl...  False  \n",
       "6  Aditya Arora10962267+arora-aditya@users.norepl...  False  "
      ]
     },
     "execution_count": 14,
     "metadata": {},
     "output_type": "execute_result"
    }
   ],
   "source": [
    "from pathlib import Path\n",
    "\n",
    "commit_data.filter(items=['path'])\n",
    "#commit_data['File'] = commit_data.File.apply(lambda x: x.split('.')[-1])\n",
    "commit_data['path']=commit_data.path.str.rsplit('.', 1).str[-1]\n",
    "commit_data.head()"
   ]
  },
  {
   "cell_type": "code",
   "execution_count": 15,
   "metadata": {},
   "outputs": [],
   "source": [
    "#commit_data.loc[commit_data['additions'].str.contains(r'[-]+') == False]\n",
    "#pd.to_datetime(df['Date'].astype(str)).dt.year == 2019  # you compare ints\n"
   ]
  },
  {
   "cell_type": "markdown",
   "metadata": {},
   "source": [
    "#  Compute lines of code"
   ]
  },
  {
   "cell_type": "code",
   "execution_count": 16,
   "metadata": {},
   "outputs": [
    {
     "data": {
      "text/html": [
       "<div>\n",
       "<style scoped>\n",
       "    .dataframe tbody tr th:only-of-type {\n",
       "        vertical-align: middle;\n",
       "    }\n",
       "\n",
       "    .dataframe tbody tr th {\n",
       "        vertical-align: top;\n",
       "    }\n",
       "\n",
       "    .dataframe thead th {\n",
       "        text-align: right;\n",
       "    }\n",
       "</style>\n",
       "<table border=\"1\" class=\"dataframe\">\n",
       "  <thead>\n",
       "    <tr style=\"text-align: right;\">\n",
       "      <th></th>\n",
       "      <th>additions</th>\n",
       "      <th>deletions</th>\n",
       "      <th>path</th>\n",
       "      <th>author</th>\n",
       "      <th>Test</th>\n",
       "      <th>loc</th>\n",
       "    </tr>\n",
       "  </thead>\n",
       "  <tbody>\n",
       "    <tr>\n",
       "      <th>1</th>\n",
       "      <td>11</td>\n",
       "      <td>0</td>\n",
       "      <td>md</td>\n",
       "      <td>Aditya Aroranoreply@github.com</td>\n",
       "      <td>False</td>\n",
       "      <td>11</td>\n",
       "    </tr>\n",
       "    <tr>\n",
       "      <th>1</th>\n",
       "      <td>9</td>\n",
       "      <td>9</td>\n",
       "      <td>tsx</td>\n",
       "      <td>0</td>\n",
       "      <td>False</td>\n",
       "      <td>18</td>\n",
       "    </tr>\n",
       "    <tr>\n",
       "      <th>3</th>\n",
       "      <td>1</td>\n",
       "      <td>0</td>\n",
       "      <td>public/_redirects</td>\n",
       "      <td>0</td>\n",
       "      <td>False</td>\n",
       "      <td>1</td>\n",
       "    </tr>\n",
       "    <tr>\n",
       "      <th>4</th>\n",
       "      <td>3</td>\n",
       "      <td>3</td>\n",
       "      <td>tsx</td>\n",
       "      <td>0</td>\n",
       "      <td>False</td>\n",
       "      <td>6</td>\n",
       "    </tr>\n",
       "    <tr>\n",
       "      <th>6</th>\n",
       "      <td>0</td>\n",
       "      <td>29</td>\n",
       "      <td>yml</td>\n",
       "      <td>0</td>\n",
       "      <td>False</td>\n",
       "      <td>29</td>\n",
       "    </tr>\n",
       "    <tr>\n",
       "      <th>...</th>\n",
       "      <td>...</td>\n",
       "      <td>...</td>\n",
       "      <td>...</td>\n",
       "      <td>...</td>\n",
       "      <td>...</td>\n",
       "      <td>...</td>\n",
       "    </tr>\n",
       "    <tr>\n",
       "      <th>5</th>\n",
       "      <td>1</td>\n",
       "      <td>1</td>\n",
       "      <td>html</td>\n",
       "      <td>Aditya Aroranoreply@github.com</td>\n",
       "      <td>False</td>\n",
       "      <td>2</td>\n",
       "    </tr>\n",
       "    <tr>\n",
       "      <th>23</th>\n",
       "      <td>16910</td>\n",
       "      <td>0</td>\n",
       "      <td>js</td>\n",
       "      <td>Aditya Aroranoreply@github.com</td>\n",
       "      <td>False</td>\n",
       "      <td>16910</td>\n",
       "    </tr>\n",
       "    <tr>\n",
       "      <th>24</th>\n",
       "      <td>4</td>\n",
       "      <td>0</td>\n",
       "      <td>js</td>\n",
       "      <td>Aditya Aroranoreply@github.com</td>\n",
       "      <td>False</td>\n",
       "      <td>4</td>\n",
       "    </tr>\n",
       "    <tr>\n",
       "      <th>26</th>\n",
       "      <td>0</td>\n",
       "      <td>0</td>\n",
       "      <td>gif</td>\n",
       "      <td>Aditya Aroranoreply@github.com</td>\n",
       "      <td>False</td>\n",
       "      <td>0</td>\n",
       "    </tr>\n",
       "    <tr>\n",
       "      <th>28</th>\n",
       "      <td>0</td>\n",
       "      <td>0</td>\n",
       "      <td>mp4</td>\n",
       "      <td>Aditya Aroranoreply@github.com</td>\n",
       "      <td>False</td>\n",
       "      <td>0</td>\n",
       "    </tr>\n",
       "  </tbody>\n",
       "</table>\n",
       "<p>5692 rows × 6 columns</p>\n",
       "</div>"
      ],
      "text/plain": [
       "    additions  deletions               path                          author  \\\n",
       "1          11          0                 md  Aditya Aroranoreply@github.com   \n",
       "1           9          9                tsx                               0   \n",
       "3           1          0  public/_redirects                               0   \n",
       "4           3          3                tsx                               0   \n",
       "6           0         29                yml                               0   \n",
       "..        ...        ...                ...                             ...   \n",
       "5           1          1               html  Aditya Aroranoreply@github.com   \n",
       "23      16910          0                 js  Aditya Aroranoreply@github.com   \n",
       "24          4          0                 js  Aditya Aroranoreply@github.com   \n",
       "26          0          0                gif  Aditya Aroranoreply@github.com   \n",
       "28          0          0                mp4  Aditya Aroranoreply@github.com   \n",
       "\n",
       "     Test    loc  \n",
       "1   False     11  \n",
       "1   False     18  \n",
       "3   False      1  \n",
       "4   False      6  \n",
       "6   False     29  \n",
       "..    ...    ...  \n",
       "5   False      2  \n",
       "23  False  16910  \n",
       "24  False      4  \n",
       "26  False      0  \n",
       "28  False      0  \n",
       "\n",
       "[5692 rows x 6 columns]"
      ]
     },
     "execution_count": 16,
     "metadata": {},
     "output_type": "execute_result"
    }
   ],
   "source": [
    "# we comput additions+deletions= total  wrote  verificar pau \n",
    "\n",
    "commit_data.loc[commit_data['additions'].str.contains(r'[-]+') == False]\n",
    "commit_data.loc[commit_data['deletions'].str.contains(r'[-]+') == False]\n",
    "\n",
    "commit_data=commit_data.replace('\\-',0,regex=True)#.astype(int)\n",
    "\n",
    "\n",
    "commit_data['deletions'] = commit_data['deletions'].astype(float)\n",
    "commit_data['additions'] = commit_data['additions'].astype(float)\n",
    "\n",
    "commit_data['deletions'] = commit_data['deletions'].astype(int)\n",
    "commit_data['additions'] = commit_data['additions'].astype(int)\n",
    "\n",
    "\n",
    "\n",
    "commit_data['loc'] = commit_data.apply(lambda x: x['additions'] + x['deletions'], axis=1)\n",
    "newCommit_data=commit_data.copy() \n",
    "newCommit_data"
   ]
  },
  {
   "cell_type": "code",
   "execution_count": 17,
   "metadata": {},
   "outputs": [
    {
     "data": {
      "text/html": [
       "<div>\n",
       "<style scoped>\n",
       "    .dataframe tbody tr th:only-of-type {\n",
       "        vertical-align: middle;\n",
       "    }\n",
       "\n",
       "    .dataframe tbody tr th {\n",
       "        vertical-align: top;\n",
       "    }\n",
       "\n",
       "    .dataframe thead th {\n",
       "        text-align: right;\n",
       "    }\n",
       "</style>\n",
       "<table border=\"1\" class=\"dataframe\">\n",
       "  <thead>\n",
       "    <tr style=\"text-align: right;\">\n",
       "      <th></th>\n",
       "      <th>path</th>\n",
       "      <th>loc</th>\n",
       "    </tr>\n",
       "  </thead>\n",
       "  <tbody>\n",
       "    <tr>\n",
       "      <th>0</th>\n",
       "      <td>0</td>\n",
       "      <td>51483</td>\n",
       "    </tr>\n",
       "    <tr>\n",
       "      <th>1</th>\n",
       "      <td>1</td>\n",
       "      <td>0</td>\n",
       "    </tr>\n",
       "    <tr>\n",
       "      <th>2</th>\n",
       "      <td>API_Examples/Example_ADC_with_PWM_LED/Debug/ma...</td>\n",
       "      <td>251</td>\n",
       "    </tr>\n",
       "    <tr>\n",
       "      <th>3</th>\n",
       "      <td>API_Examples/Example_ADC_with_PWM_LED/Example_...</td>\n",
       "      <td>191</td>\n",
       "    </tr>\n",
       "    <tr>\n",
       "      <th>4</th>\n",
       "      <td>API_Examples/Example_Keypad/Debug/makefile</td>\n",
       "      <td>191</td>\n",
       "    </tr>\n",
       "  </tbody>\n",
       "</table>\n",
       "</div>"
      ],
      "text/plain": [
       "                                                path    loc\n",
       "0                                                  0  51483\n",
       "1                                                  1      0\n",
       "2  API_Examples/Example_ADC_with_PWM_LED/Debug/ma...    251\n",
       "3  API_Examples/Example_ADC_with_PWM_LED/Example_...    191\n",
       "4         API_Examples/Example_Keypad/Debug/makefile    191"
      ]
     },
     "execution_count": 17,
     "metadata": {},
     "output_type": "execute_result"
    }
   ],
   "source": [
    "#commit_data=commit_data.groupby(['path'])['loc'].agg('sum')\n",
    "newCommit_data=newCommit_data.groupby(['path'])['loc'].agg('sum')\n",
    "\n",
    "newCommit_data= newCommit_data.reset_index() \n",
    "newCommit_data.head()"
   ]
  },
  {
   "cell_type": "code",
   "execution_count": 18,
   "metadata": {},
   "outputs": [
    {
     "data": {
      "text/html": [
       "<div>\n",
       "<style scoped>\n",
       "    .dataframe tbody tr th:only-of-type {\n",
       "        vertical-align: middle;\n",
       "    }\n",
       "\n",
       "    .dataframe tbody tr th {\n",
       "        vertical-align: top;\n",
       "    }\n",
       "\n",
       "    .dataframe thead th {\n",
       "        text-align: right;\n",
       "    }\n",
       "</style>\n",
       "<table border=\"1\" class=\"dataframe\">\n",
       "  <thead>\n",
       "    <tr style=\"text-align: right;\">\n",
       "      <th></th>\n",
       "      <th>path</th>\n",
       "      <th>loc</th>\n",
       "    </tr>\n",
       "  </thead>\n",
       "  <tbody>\n",
       "    <tr>\n",
       "      <th>761</th>\n",
       "      <td>ppm</td>\n",
       "      <td>4510558</td>\n",
       "    </tr>\n",
       "    <tr>\n",
       "      <th>55</th>\n",
       "      <td>csv</td>\n",
       "      <td>1599616</td>\n",
       "    </tr>\n",
       "    <tr>\n",
       "      <th>791</th>\n",
       "      <td>txt</td>\n",
       "      <td>504286</td>\n",
       "    </tr>\n",
       "    <tr>\n",
       "      <th>70</th>\n",
       "      <td>h</td>\n",
       "      <td>122921</td>\n",
       "    </tr>\n",
       "    <tr>\n",
       "      <th>797</th>\n",
       "      <td>xml</td>\n",
       "      <td>106121</td>\n",
       "    </tr>\n",
       "  </tbody>\n",
       "</table>\n",
       "</div>"
      ],
      "text/plain": [
       "    path      loc\n",
       "761  ppm  4510558\n",
       "55   csv  1599616\n",
       "791  txt   504286\n",
       "70     h   122921\n",
       "797  xml   106121"
      ]
     },
     "execution_count": 18,
     "metadata": {},
     "output_type": "execute_result"
    }
   ],
   "source": [
    "newCommit_data.sort_values(by=['loc'],ascending=False).head()"
   ]
  },
  {
   "cell_type": "markdown",
   "metadata": {},
   "source": [
    "# Identify programming languagens by extension and Author"
   ]
  },
  {
   "cell_type": "code",
   "execution_count": 19,
   "metadata": {},
   "outputs": [
    {
     "name": "stdout",
     "output_type": "stream",
     "text": [
      "0 0\n"
     ]
    }
   ],
   "source": [
    "#BY author  by Author  Java\n",
    "java=commit_data.path.str.contains(r'java$',regex=True).sum()\n",
    "\n",
    "try:\n",
    "    javaLoc=newCommit_data.loc[newCommit_data['path'] == 'java']\n",
    "    javaLoc=javaLoc.iloc[0]['loc']\n",
    "except:\n",
    "    javaLoc = 0\n",
    "print(java,javaLoc)"
   ]
  },
  {
   "cell_type": "code",
   "execution_count": 20,
   "metadata": {},
   "outputs": [
    {
     "name": "stdout",
     "output_type": "stream",
     "text": [
      "0 0\n"
     ]
    }
   ],
   "source": [
    "#amount  files GO in total \n",
    "go=commit_data.path.str.contains(r'go$',regex=True).sum()\n",
    "\n",
    "try:\n",
    "    goLoc=newCommit_data.loc[newCommit_data['path'] == 'go']\n",
    "    goLoc=goLoc.iloc[0]['loc']\n",
    "except:\n",
    "    goLoc=0\n",
    "print(go,goLoc)"
   ]
  },
  {
   "cell_type": "code",
   "execution_count": 21,
   "metadata": {},
   "outputs": [
    {
     "name": "stdout",
     "output_type": "stream",
     "text": [
      "53 12738\n"
     ]
    }
   ],
   "source": [
    "#amount  files CSS by Author  Andrew Audibert\n",
    "css=commit_data.path.str.contains(r'css$',regex=True).sum()\n",
    "\n",
    "try:\n",
    "    cssLoc=newCommit_data.loc[newCommit_data['path'] == 'css']\n",
    "    cssLoc=cssLoc.iloc[0]['loc']\n",
    "except:\n",
    "    cssLoc=0\n",
    "print(css,cssLoc)"
   ]
  },
  {
   "cell_type": "code",
   "execution_count": 22,
   "metadata": {},
   "outputs": [
    {
     "name": "stdout",
     "output_type": "stream",
     "text": [
      "94 86962\n"
     ]
    }
   ],
   "source": [
    "#amount  files HTML in total \n",
    "html=commit_data.path.str.contains(r'html$',regex=True).sum()\n",
    "html\n",
    "\n",
    "try:\n",
    "    htmlLoc=newCommit_data.loc[newCommit_data['path'] == 'html']\n",
    "    htmlLoc=htmlLoc.iloc[0]['loc']\n",
    "except:\n",
    "    htmlLoc=0\n",
    "print(html,htmlLoc)"
   ]
  },
  {
   "cell_type": "code",
   "execution_count": 23,
   "metadata": {},
   "outputs": [
    {
     "name": "stdout",
     "output_type": "stream",
     "text": [
      "0 0\n"
     ]
    }
   ],
   "source": [
    "#amount  files JSP in total \n",
    "jsp=commit_data.path.str.contains(r'jsp$',regex=True).sum()\n",
    "jsp\n",
    "\n",
    "try:\n",
    "    jspLoc=newCommit_data.loc[newCommit_data['path'] == 'jsp']\n",
    "    jspLoc=jspLoc.iloc[0]['loc']\n",
    "except:\n",
    "    jspLoc=0\n",
    "print(jsp,jspLoc)"
   ]
  },
  {
   "cell_type": "code",
   "execution_count": 24,
   "metadata": {},
   "outputs": [
    {
     "name": "stdout",
     "output_type": "stream",
     "text": [
      "102 25862\n"
     ]
    }
   ],
   "source": [
    "#amount  files JS in total \n",
    "js=commit_data.path.str.contains(r'js$',regex=True).sum()\n",
    "\n",
    "\n",
    "try:\n",
    "    jsLoc=newCommit_data.loc[newCommit_data['path'] == 'js']\n",
    "    jsLoc=jsLoc.iloc[0]['loc']\n",
    "except:\n",
    "    jsLoc=0\n",
    "print(js,jsLoc)"
   ]
  },
  {
   "cell_type": "code",
   "execution_count": 25,
   "metadata": {},
   "outputs": [
    {
     "name": "stdout",
     "output_type": "stream",
     "text": [
      "560 14161\n"
     ]
    }
   ],
   "source": [
    "#amount  files Python in total \n",
    "py=commit_data.path.str.contains(r'py$',regex=True).sum()\n",
    "\n",
    "try:\n",
    "    pyLoc=newCommit_data.loc[newCommit_data['path'] == 'py']\n",
    "    pyLoc=pyLoc.iloc[0]['loc']\n",
    "except:\n",
    "    pyLoc=0\n",
    "print(py,pyLoc)"
   ]
  },
  {
   "cell_type": "code",
   "execution_count": 26,
   "metadata": {},
   "outputs": [
    {
     "name": "stdout",
     "output_type": "stream",
     "text": [
      "0 0\n"
     ]
    }
   ],
   "source": [
    "#amount  files PHP in total \n",
    "php=commit_data.path.str.contains(r'php$',regex=True).sum()\n",
    "\n",
    "try:\n",
    "    phpLoc=newCommit_data.loc[newCommit_data['path'] == 'php']\n",
    "    phpLoc=phpLoc.iloc[0]['loc']\n",
    "except:\n",
    "    phpLoc=0\n",
    "print(php,phpLoc)"
   ]
  },
  {
   "cell_type": "code",
   "execution_count": 27,
   "metadata": {},
   "outputs": [
    {
     "name": "stdout",
     "output_type": "stream",
     "text": [
      "0 0\n"
     ]
    }
   ],
   "source": [
    "#amount  files Ruby in total \n",
    "rb=commit_data.path.str.contains(r'rb$',regex=True).sum()\n",
    "\n",
    "try:\n",
    "    rbLoc=newCommit_data.loc[newCommit_data['path'] == 'rb']\n",
    "    rbLoc=rbLoc.iloc[0]['loc']\n",
    "except:\n",
    "    rbLoc=0\n",
    "print(rb,rbLoc)"
   ]
  },
  {
   "cell_type": "code",
   "execution_count": 28,
   "metadata": {},
   "outputs": [
    {
     "name": "stdout",
     "output_type": "stream",
     "text": [
      "204 54705\n"
     ]
    }
   ],
   "source": [
    "#amount  files C in total \n",
    "c=commit_data.path.str.contains(r'c$',regex=True).sum()\n",
    "\n",
    "try:\n",
    "    cLoc=newCommit_data.loc[newCommit_data['path'] == 'c']\n",
    "    cLoc=cLoc.iloc[0]['loc']\n",
    "except:\n",
    "    cLoc=0\n",
    "print(c,cLoc)"
   ]
  },
  {
   "cell_type": "code",
   "execution_count": 29,
   "metadata": {},
   "outputs": [
    {
     "name": "stdout",
     "output_type": "stream",
     "text": [
      "116 13261\n"
     ]
    }
   ],
   "source": [
    "#amount  files C++ in total \n",
    "cpp=commit_data.path.str.contains(r'cpp$',regex=True).sum()\n",
    "\n",
    "try:\n",
    "    cppLoc=newCommit_data.loc[newCommit_data['path'] == 'cpp']\n",
    "    cppLoc=cppLoc.iloc[0]['loc']\n",
    "except:\n",
    "    cppLoc=0\n",
    "print(cpp,cppLoc)"
   ]
  },
  {
   "cell_type": "markdown",
   "metadata": {},
   "source": [
    "# Files committed in total by specific author"
   ]
  },
  {
   "cell_type": "code",
   "execution_count": 30,
   "metadata": {},
   "outputs": [
    {
     "data": {
      "text/plain": [
       "1129"
      ]
     },
     "execution_count": 30,
     "metadata": {},
     "output_type": "execute_result"
    }
   ],
   "source": [
    "#Soma a quantidade de arquivos que o desenvolvedor fez commit. Todas as linguagens \n",
    "modificadosTotal=np.sum(go+java+c+html+rb+js+css+jsp+py+php+cpp)\n",
    "modificadosTotal"
   ]
  },
  {
   "cell_type": "code",
   "execution_count": 31,
   "metadata": {},
   "outputs": [
    {
     "data": {
      "text/plain": [
       "207689"
      ]
     },
     "execution_count": 31,
     "metadata": {},
     "output_type": "execute_result"
    }
   ],
   "source": [
    "locTotal=np.sum(goLoc+javaLoc+cLoc+htmlLoc+rbLoc+jsLoc+cssLoc+jspLoc+pyLoc+phpLoc+cppLoc)\n",
    "locTotal"
   ]
  },
  {
   "cell_type": "code",
   "execution_count": 32,
   "metadata": {},
   "outputs": [],
   "source": [
    "#Val absolute\n",
    "\n",
    "import pandas as pd \n",
    "  \n",
    "# intialise data of lists. \n",
    "data = {'Language':['Java', 'Go', 'CSS', 'HTML','JSP','Javascript','Python','PHP','Ruby','C','C++'],'Files Commit':[java, go, css, html,jsp,js,py,php,rb,c,cpp]} \n",
    "  \n",
    "# Create DataFrame \n",
    "df = pd.DataFrame(data) \n",
    "\n",
    "# for column\n",
    "df['Files Commit'] = df['Files Commit'].replace(np.nan, 0)\n",
    "# Print the output.  \n",
    "dfLanguages=df.sort_values(by=['Files Commit'], ascending=False)\n"
   ]
  },
  {
   "cell_type": "code",
   "execution_count": 33,
   "metadata": {},
   "outputs": [
    {
     "data": {
      "text/html": [
       "<div>\n",
       "<style scoped>\n",
       "    .dataframe tbody tr th:only-of-type {\n",
       "        vertical-align: middle;\n",
       "    }\n",
       "\n",
       "    .dataframe tbody tr th {\n",
       "        vertical-align: top;\n",
       "    }\n",
       "\n",
       "    .dataframe thead th {\n",
       "        text-align: right;\n",
       "    }\n",
       "</style>\n",
       "<table border=\"1\" class=\"dataframe\">\n",
       "  <thead>\n",
       "    <tr style=\"text-align: right;\">\n",
       "      <th></th>\n",
       "      <th>Language</th>\n",
       "      <th>Files Commit</th>\n",
       "    </tr>\n",
       "  </thead>\n",
       "  <tbody>\n",
       "    <tr>\n",
       "      <th>6</th>\n",
       "      <td>Python</td>\n",
       "      <td>560</td>\n",
       "    </tr>\n",
       "    <tr>\n",
       "      <th>9</th>\n",
       "      <td>C</td>\n",
       "      <td>204</td>\n",
       "    </tr>\n",
       "    <tr>\n",
       "      <th>10</th>\n",
       "      <td>C++</td>\n",
       "      <td>116</td>\n",
       "    </tr>\n",
       "    <tr>\n",
       "      <th>5</th>\n",
       "      <td>Javascript</td>\n",
       "      <td>102</td>\n",
       "    </tr>\n",
       "    <tr>\n",
       "      <th>3</th>\n",
       "      <td>HTML</td>\n",
       "      <td>94</td>\n",
       "    </tr>\n",
       "    <tr>\n",
       "      <th>2</th>\n",
       "      <td>CSS</td>\n",
       "      <td>53</td>\n",
       "    </tr>\n",
       "  </tbody>\n",
       "</table>\n",
       "</div>"
      ],
      "text/plain": [
       "      Language  Files Commit\n",
       "6       Python           560\n",
       "9            C           204\n",
       "10         C++           116\n",
       "5   Javascript           102\n",
       "3         HTML            94\n",
       "2          CSS            53"
      ]
     },
     "execution_count": 33,
     "metadata": {},
     "output_type": "execute_result"
    }
   ],
   "source": [
    "#Linguagens com pelo menos 1 arquivo comitado\n",
    "dfLanguages= dfLanguages[dfLanguages['Files Commit'] != 0]\n",
    "dfnewLanguages = dfLanguages.copy() \n",
    "dfnewLanguages"
   ]
  },
  {
   "cell_type": "code",
   "execution_count": 34,
   "metadata": {},
   "outputs": [
    {
     "data": {
      "text/plain": [
       "6"
      ]
     },
     "execution_count": 34,
     "metadata": {},
     "output_type": "execute_result"
    }
   ],
   "source": [
    "#Quantidade de linguagens\n",
    "qntLinguagens=dfLanguages.shape[0] \n",
    "qntLinguagens"
   ]
  },
  {
   "cell_type": "code",
   "execution_count": 35,
   "metadata": {},
   "outputs": [
    {
     "data": {
      "text/html": [
       "<div>\n",
       "<style scoped>\n",
       "    .dataframe tbody tr th:only-of-type {\n",
       "        vertical-align: middle;\n",
       "    }\n",
       "\n",
       "    .dataframe tbody tr th {\n",
       "        vertical-align: top;\n",
       "    }\n",
       "\n",
       "    .dataframe thead th {\n",
       "        text-align: right;\n",
       "    }\n",
       "</style>\n",
       "<table border=\"1\" class=\"dataframe\">\n",
       "  <thead>\n",
       "    <tr style=\"text-align: right;\">\n",
       "      <th></th>\n",
       "      <th>Language</th>\n",
       "      <th>Loc</th>\n",
       "    </tr>\n",
       "  </thead>\n",
       "  <tbody>\n",
       "    <tr>\n",
       "      <th>3</th>\n",
       "      <td>HTML</td>\n",
       "      <td>86962</td>\n",
       "    </tr>\n",
       "    <tr>\n",
       "      <th>9</th>\n",
       "      <td>C</td>\n",
       "      <td>54705</td>\n",
       "    </tr>\n",
       "    <tr>\n",
       "      <th>5</th>\n",
       "      <td>Javascript</td>\n",
       "      <td>25862</td>\n",
       "    </tr>\n",
       "    <tr>\n",
       "      <th>6</th>\n",
       "      <td>Python</td>\n",
       "      <td>14161</td>\n",
       "    </tr>\n",
       "    <tr>\n",
       "      <th>10</th>\n",
       "      <td>C++</td>\n",
       "      <td>13261</td>\n",
       "    </tr>\n",
       "    <tr>\n",
       "      <th>2</th>\n",
       "      <td>CSS</td>\n",
       "      <td>12738</td>\n",
       "    </tr>\n",
       "    <tr>\n",
       "      <th>0</th>\n",
       "      <td>Java</td>\n",
       "      <td>0</td>\n",
       "    </tr>\n",
       "    <tr>\n",
       "      <th>1</th>\n",
       "      <td>Go</td>\n",
       "      <td>0</td>\n",
       "    </tr>\n",
       "    <tr>\n",
       "      <th>4</th>\n",
       "      <td>JSP</td>\n",
       "      <td>0</td>\n",
       "    </tr>\n",
       "    <tr>\n",
       "      <th>7</th>\n",
       "      <td>PHP</td>\n",
       "      <td>0</td>\n",
       "    </tr>\n",
       "    <tr>\n",
       "      <th>8</th>\n",
       "      <td>Ruby</td>\n",
       "      <td>0</td>\n",
       "    </tr>\n",
       "  </tbody>\n",
       "</table>\n",
       "</div>"
      ],
      "text/plain": [
       "      Language    Loc\n",
       "3         HTML  86962\n",
       "9            C  54705\n",
       "5   Javascript  25862\n",
       "6       Python  14161\n",
       "10         C++  13261\n",
       "2          CSS  12738\n",
       "0         Java      0\n",
       "1           Go      0\n",
       "4          JSP      0\n",
       "7          PHP      0\n",
       "8         Ruby      0"
      ]
     },
     "execution_count": 35,
     "metadata": {},
     "output_type": "execute_result"
    }
   ],
   "source": [
    "#Val absolute\n",
    "\n",
    "import pandas as pd \n",
    "  \n",
    "# intialise data of lists. \n",
    "data = {'Language':['Java', 'Go', 'CSS', 'HTML','JSP','Javascript','Python','PHP','Ruby','C','C++'],'Loc':[javaLoc, goLoc, cssLoc, htmlLoc,jspLoc,jsLoc,pyLoc,phpLoc,rbLoc,cLoc,cppLoc]} \n",
    "  \n",
    "dfLoc = pd.DataFrame(data) \n",
    "\n",
    "# for column\n",
    "dfLoc['Loc'] = dfLoc['Loc'].replace(np.nan, 0)\n",
    "# Print the output.  \n",
    "dfLoc=dfLoc.sort_values(by=['Loc'], ascending=False)\n",
    "dfLoc"
   ]
  },
  {
   "cell_type": "code",
   "execution_count": 36,
   "metadata": {},
   "outputs": [
    {
     "data": {
      "text/html": [
       "<div>\n",
       "<style scoped>\n",
       "    .dataframe tbody tr th:only-of-type {\n",
       "        vertical-align: middle;\n",
       "    }\n",
       "\n",
       "    .dataframe tbody tr th {\n",
       "        vertical-align: top;\n",
       "    }\n",
       "\n",
       "    .dataframe thead th {\n",
       "        text-align: right;\n",
       "    }\n",
       "</style>\n",
       "<table border=\"1\" class=\"dataframe\">\n",
       "  <thead>\n",
       "    <tr style=\"text-align: right;\">\n",
       "      <th></th>\n",
       "      <th>Language</th>\n",
       "      <th>Loc</th>\n",
       "    </tr>\n",
       "  </thead>\n",
       "  <tbody>\n",
       "    <tr>\n",
       "      <th>3</th>\n",
       "      <td>HTML</td>\n",
       "      <td>86962</td>\n",
       "    </tr>\n",
       "    <tr>\n",
       "      <th>9</th>\n",
       "      <td>C</td>\n",
       "      <td>54705</td>\n",
       "    </tr>\n",
       "    <tr>\n",
       "      <th>5</th>\n",
       "      <td>Javascript</td>\n",
       "      <td>25862</td>\n",
       "    </tr>\n",
       "    <tr>\n",
       "      <th>6</th>\n",
       "      <td>Python</td>\n",
       "      <td>14161</td>\n",
       "    </tr>\n",
       "    <tr>\n",
       "      <th>10</th>\n",
       "      <td>C++</td>\n",
       "      <td>13261</td>\n",
       "    </tr>\n",
       "    <tr>\n",
       "      <th>2</th>\n",
       "      <td>CSS</td>\n",
       "      <td>12738</td>\n",
       "    </tr>\n",
       "  </tbody>\n",
       "</table>\n",
       "</div>"
      ],
      "text/plain": [
       "      Language    Loc\n",
       "3         HTML  86962\n",
       "9            C  54705\n",
       "5   Javascript  25862\n",
       "6       Python  14161\n",
       "10         C++  13261\n",
       "2          CSS  12738"
      ]
     },
     "execution_count": 36,
     "metadata": {},
     "output_type": "execute_result"
    }
   ],
   "source": [
    "# remove loc with 0\n",
    "dfLoc= dfLoc[dfLoc['Loc'] != 0]\n",
    "dfLoc"
   ]
  },
  {
   "cell_type": "markdown",
   "metadata": {},
   "source": [
    "# Percentage LOC "
   ]
  },
  {
   "cell_type": "code",
   "execution_count": 37,
   "metadata": {},
   "outputs": [
    {
     "data": {
      "text/html": [
       "<div>\n",
       "<style scoped>\n",
       "    .dataframe tbody tr th:only-of-type {\n",
       "        vertical-align: middle;\n",
       "    }\n",
       "\n",
       "    .dataframe tbody tr th {\n",
       "        vertical-align: top;\n",
       "    }\n",
       "\n",
       "    .dataframe thead th {\n",
       "        text-align: right;\n",
       "    }\n",
       "</style>\n",
       "<table border=\"1\" class=\"dataframe\">\n",
       "  <thead>\n",
       "    <tr style=\"text-align: right;\">\n",
       "      <th></th>\n",
       "      <th>Loc</th>\n",
       "    </tr>\n",
       "  </thead>\n",
       "  <tbody>\n",
       "    <tr>\n",
       "      <th>3</th>\n",
       "      <td>0.42</td>\n",
       "    </tr>\n",
       "    <tr>\n",
       "      <th>9</th>\n",
       "      <td>0.26</td>\n",
       "    </tr>\n",
       "    <tr>\n",
       "      <th>5</th>\n",
       "      <td>0.12</td>\n",
       "    </tr>\n",
       "    <tr>\n",
       "      <th>6</th>\n",
       "      <td>0.07</td>\n",
       "    </tr>\n",
       "    <tr>\n",
       "      <th>10</th>\n",
       "      <td>0.06</td>\n",
       "    </tr>\n",
       "    <tr>\n",
       "      <th>2</th>\n",
       "      <td>0.06</td>\n",
       "    </tr>\n",
       "  </tbody>\n",
       "</table>\n",
       "</div>"
      ],
      "text/plain": [
       "     Loc\n",
       "3   0.42\n",
       "9   0.26\n",
       "5   0.12\n",
       "6   0.07\n",
       "10  0.06\n",
       "2   0.06"
      ]
     },
     "execution_count": 37,
     "metadata": {},
     "output_type": "execute_result"
    }
   ],
   "source": [
    "dfLocPercent = dfLoc['Loc'].div(locTotal).round(2)\n",
    "dfLocPercent = pd.DataFrame(dfLocPercent) \n",
    "\n",
    "dfLocPercent= dfLocPercent[dfLocPercent['Loc'] != 0]\n",
    "dfLocPercent"
   ]
  },
  {
   "cell_type": "markdown",
   "metadata": {},
   "source": [
    "# Percentage LOC Test"
   ]
  },
  {
   "cell_type": "code",
   "execution_count": 38,
   "metadata": {},
   "outputs": [],
   "source": [
    "#Values in percentage \n",
    "\n",
    "#dfTestLoc['loc'] = dfTestLoc['loc'].div(locTotal).round(2)\n",
    "\n",
    "#remove o 0\n",
    "#dfTestLoc= dfTestLoc[dfTestLoc['loc'] != 0]\n",
    "#dfTestLoc"
   ]
  },
  {
   "cell_type": "code",
   "execution_count": 39,
   "metadata": {},
   "outputs": [],
   "source": [
    "\n",
    "try:\n",
    "    dfTestLoc['loc']=dfTestLoc['loc'].astype(str)\n",
    "\n",
    "    jsLocTest=dfTestLoc.loc[dfTestLoc['path'] == 'js']\n",
    "    jsLocTest=jsLocTest.iloc[0]['loc']\n",
    "    jsLocTest=int(jsLocTest)\n",
    "except:\n",
    "    jsLocTest=0\n",
    "\n",
    "\n",
    "#try:\n",
    "#    jspLocTest=dfTestLoc.loc[dfTestLoc['path'] == 'jsp']\n",
    "#    jspLocTest=jspLocTest.iloc[0]['loc']\n",
    "#    jspLocTest=int(jspLocTest)\n",
    "#except:\n",
    "#    jspLocTest=0\n",
    "\n",
    "try:\n",
    "    javaLocTest=dfTestLoc.loc[dfTestLoc['path'] == 'java']\n",
    "    javaLocTest=javaLocTest.iloc[0]['loc']\n",
    "    javaLocTest=int(javaLocTest)\n",
    "except:\n",
    "    javaLocTest=0\n",
    "    \n",
    "try:\n",
    "    goLocTest=dfTestLoc.loc[dfTestLoc['path'] == 'go']\n",
    "    goLocTest=goLocTest.iloc[0]['loc']\n",
    "    goLocTest=int(goLocTest)\n",
    "except:\n",
    "    goLocTest=0\n",
    "\n",
    "try:\n",
    "    rbLocTest=dfTestLoc.loc[dfTestLoc['path'] == 'rb']\n",
    "    rbLocTest=rbLocTest.iloc[0]['loc']\n",
    "    rbLocTest=int(rbLocTest)\n",
    "except:\n",
    "    rbLocTest=0\n",
    "\n",
    "try:\n",
    "    pyLocTest=dfTestLoc.loc[dfTestLoc['path'] == 'py']\n",
    "    pyLocTest=pyLocTest.iloc[0]['loc']\n",
    "    pyLocTest=int(pyLocTest)\n",
    "except:\n",
    "    pyLocTest=0\n",
    "\n",
    "try:\n",
    "    phpLocTest=dfTestLoc.loc[dfTestLoc['path'] == 'php']\n",
    "    phpLocTest=phpLocTest.iloc[0]['loc']\n",
    "    phpLocTest=int(phpLocTest)\n",
    "except:\n",
    "    phpLocTest=0\n",
    "\n",
    "try:\n",
    "    cLocTest=dfTestLoc.loc[dfTestLoc['path'] == 'c']\n",
    "    cLocTest=cLocTest.iloc[0]['loc']\n",
    "    cLocTest=int(cLocTest)\n",
    "except:\n",
    "    cLocTest=0\n",
    "    \n",
    "try:\n",
    "    cppLocTest=dfTestLoc.loc[dfTestLoc['path'] == 'cpp']\n",
    "    cppLocTest=cppLocTest.iloc[0]['loc']\n",
    "    cppLocTest=int(cppLocTest)\n",
    "except:\n",
    "    cppLocTest=0"
   ]
  },
  {
   "cell_type": "code",
   "execution_count": 40,
   "metadata": {},
   "outputs": [
    {
     "data": {
      "image/png": "[encoded data removed]",
      "text/plain": [
       "<Figure size 432x288 with 1 Axes>"
      ]
     },
     "metadata": {},
     "output_type": "display_data"
    }
   ],
   "source": [
    "\n",
    "#COmpute front and back from loc\n",
    "\n",
    "import matplotlib.pyplot as plt\n",
    "\n",
    "plt.rcParams.update({'font.size': 22})# change font size\n",
    "\n",
    "#Front : js html, jsp, css\n",
    "#back: java, go, Ruby,js, py,php,c,cpp\n",
    "backLoc=np.sum(javaLoc+ goLoc+ rbLoc+jsLoc+ pyLoc+phpLoc+cLoc+cppLoc)\n",
    "frontLoc=np.sum(jsLoc+htmlLoc+jspLoc+cssLoc)\n",
    "\n",
    "try:\n",
    "    backLoc=backLoc/locTotal\n",
    "    backLoc=round(backLoc,2)\n",
    "except ZeroDivisionError:\n",
    "    backLoc = 0\n",
    "\n",
    "try:\n",
    "    frontLoc=frontLoc/locTotal\n",
    "    frontLoc=round(frontLoc,2)\n",
    "except ZeroDivisionError:\n",
    "    frontLoc = 0\n",
    "    \n",
    "\n",
    "\n",
    "# The slices will be ordered and plotted counter-clockwise.\n",
    "labels = 'Backend', 'Frontend'\n",
    "sizes = [backLoc, frontLoc]\n",
    "colors = ['green', 'red']\n",
    "explode = (0, 0)  # explode a slice if required\n",
    "\n",
    "plt.pie(sizes, explode=explode, labels=labels, colors=colors,\n",
    "        autopct='%1.1f%%', shadow=True)\n",
    "        \n",
    "#draw a circle at the center of pie to make it look like a donut\n",
    "centre_circle = plt.Circle((0,0),0.75,color='black', fc='white',linewidth=1.60)\n",
    "fig = plt.gcf()\n",
    "fig.gca().add_artist(centre_circle)\n",
    "\n",
    "\n",
    "# Set aspect ratio to be equal so that pie is drawn as a circle.\n",
    "plt.axis('equal')\n",
    "plt.savefig('backfrontLoc.png')\n",
    "\n",
    "plt.show()"
   ]
  },
  {
   "cell_type": "code",
   "execution_count": 41,
   "metadata": {},
   "outputs": [
    {
     "data": {
      "image/png": "[encoded data removed]",
      "text/plain": [
       "<Figure size 432x288 with 1 Axes>"
      ]
     },
     "metadata": {},
     "output_type": "display_data"
    }
   ],
   "source": [
    "#COmpute front and back from Commits\n",
    "import matplotlib.pyplot as plt\n",
    "\n",
    "plt.rcParams.update({'font.size': 22})# change font size\n",
    "\n",
    "#Front : js html, jsp, css\n",
    "frontCommit=[js,html,jsp,css]\n",
    "#back: java, go, Ruby,js, py,php,c,cpp\n",
    "backCommit=[java,go,rb,js,py,php,c,cpp]\n",
    "\n",
    "backCommit=np.sum(java+ go+ rb+js+ py+php+c+cpp)\n",
    "frontCommit=np.sum(js+html+jsp+css)\n",
    "\n",
    "\n",
    "try:\n",
    "    backCommit=backCommit/modificadosTotal\n",
    "    backCommit=round(backCommit,2)\n",
    "except ZeroDivisionError:\n",
    "    backCommit = 0\n",
    "\n",
    "try:\n",
    "    frontCommit=frontCommit/modificadosTotal\n",
    "    frontCommit=round(frontCommit,2)\n",
    "except ZeroDivisionError:\n",
    "    frontCommit = 0\n",
    "    \n",
    "\n",
    "# The slices will be ordered and plotted counter-clockwise.\n",
    "labels = 'Backend', 'Frontend'\n",
    "sizes = [backCommit, frontCommit]\n",
    "colors = ['green', 'red']\n",
    "explode = (0, 0)  # explode a slice if required\n",
    "\n",
    "plt.pie(sizes, explode=explode, labels=labels, colors=colors,\n",
    "        autopct='%1.1f%%', shadow=True)\n",
    "        \n",
    "#draw a circle at the center of pie to make it look like a donut\n",
    "centre_circle = plt.Circle((0,0),0.75,color='black', fc='white',linewidth=1.60)\n",
    "fig = plt.gcf()\n",
    "fig.gca().add_artist(centre_circle)\n",
    "\n",
    "\n",
    "# Set aspect ratio to be equal so that pie is drawn as a circle.\n",
    "plt.axis('equal')\n",
    "plt.savefig('backfrontCommits.png')\n",
    "\n",
    "plt.show()"
   ]
  },
  {
   "cell_type": "markdown",
   "metadata": {},
   "source": [
    "# Test commits  files "
   ]
  },
  {
   "cell_type": "code",
   "execution_count": 42,
   "metadata": {},
   "outputs": [
    {
     "data": {
      "image/png": "[encoded data removed]",
      "text/plain": [
       "<Figure size 432x288 with 1 Axes>"
      ]
     },
     "metadata": {},
     "output_type": "display_data"
    }
   ],
   "source": [
    "back=[java, go, rb,js, py,php,c,cpp]\n",
    "\n",
    "back=np.count_nonzero(back)\n",
    "total=back+count_tests\n",
    "\n",
    "#back=(back/total)*100\n",
    "calc=back/total\n",
    "\n",
    "calc=round(back,2)\n",
    "\n",
    "#count % test\n",
    "test = count_tests/total\n",
    "test=round(test,2)\n",
    "\n",
    "\n",
    "# The slices will be ordered and plotted counter-clockwise.\n",
    "labels = 'Not Test', 'Test'\n",
    "sizes = [calc, test]\n",
    "colors = ['red', 'blue']\n",
    "explode = (0, 0)  # explode a slice if required\n",
    "\n",
    "plt.pie(sizes, explode=explode, labels=labels, colors=colors,autopct='%1.1f%%', shadow=True)\n",
    "        \n",
    "#draw a circle at the center of pie to make it look like a donut\n",
    "centre_circle = plt.Circle((0,0),0.75,color='black', fc='white',linewidth=1.60)\n",
    "fig = plt.gcf()\n",
    "fig.gca().add_artist(centre_circle)\n",
    "\n",
    "\n",
    "# Set aspect ratio to be equal so that pie is drawn as a circle.\n",
    "plt.axis('equal')\n",
    "plt.savefig('fileCommitTest.png')\n",
    "\n",
    "plt.show()"
   ]
  },
  {
   "cell_type": "markdown",
   "metadata": {},
   "source": [
    "# LOC Test CHart"
   ]
  },
  {
   "cell_type": "code",
   "execution_count": 43,
   "metadata": {},
   "outputs": [
    {
     "data": {
      "image/png": "[encoded data removed]",
      "text/plain": [
       "<Figure size 432x288 with 1 Axes>"
      ]
     },
     "metadata": {},
     "output_type": "display_data"
    }
   ],
   "source": [
    "if count_tests != 0:\n",
    "\n",
    "    locTest= locTest/locTotal\n",
    "    locGeneral=(locTotal-locTest)/locTotal\n",
    "\n",
    "    # The slices will be ordered and plotted counter-clockwise.\n",
    "    labels = 'Not Test', 'Test'\n",
    "    sizes = [locGeneral, locTest]\n",
    "    colors = ['red', 'blue']\n",
    "    explode = (0, 0)  # explode a slice if required\n",
    "\n",
    "    plt.pie(sizes, explode=explode, labels=labels, colors=colors,autopct='%1.1f%%', shadow=True)\n",
    "\n",
    "    #draw a circle at the center of pie to make it look like a donut\n",
    "    centre_circle = plt.Circle((0,0),0.75,color='black', fc='white',linewidth=1.60)\n",
    "    fig = plt.gcf()\n",
    "    fig.gca().add_artist(centre_circle)\n",
    "\n",
    "\n",
    "    # Set aspect ratio to be equal so that pie is drawn as a circle.\n",
    "    plt.axis('equal')\n",
    "    plt.savefig('locTest.png')\n",
    "    locTestPng='locTest.png'\n",
    "    plt.show()\n",
    "else:\n",
    "    locTestPng='fileCommitTest.png'\n",
    "    "
   ]
  },
  {
   "cell_type": "code",
   "execution_count": 44,
   "metadata": {},
   "outputs": [
    {
     "data": {
      "text/html": [
       "<div>\n",
       "<style scoped>\n",
       "    .dataframe tbody tr th:only-of-type {\n",
       "        vertical-align: middle;\n",
       "    }\n",
       "\n",
       "    .dataframe tbody tr th {\n",
       "        vertical-align: top;\n",
       "    }\n",
       "\n",
       "    .dataframe thead th {\n",
       "        text-align: right;\n",
       "    }\n",
       "</style>\n",
       "<table border=\"1\" class=\"dataframe\">\n",
       "  <thead>\n",
       "    <tr style=\"text-align: right;\">\n",
       "      <th></th>\n",
       "      <th>Language</th>\n",
       "      <th>Files Commit</th>\n",
       "    </tr>\n",
       "  </thead>\n",
       "  <tbody>\n",
       "    <tr>\n",
       "      <th>6</th>\n",
       "      <td>Python</td>\n",
       "      <td>0.50</td>\n",
       "    </tr>\n",
       "    <tr>\n",
       "      <th>9</th>\n",
       "      <td>C</td>\n",
       "      <td>0.18</td>\n",
       "    </tr>\n",
       "    <tr>\n",
       "      <th>10</th>\n",
       "      <td>C++</td>\n",
       "      <td>0.10</td>\n",
       "    </tr>\n",
       "    <tr>\n",
       "      <th>5</th>\n",
       "      <td>Javascript</td>\n",
       "      <td>0.09</td>\n",
       "    </tr>\n",
       "    <tr>\n",
       "      <th>3</th>\n",
       "      <td>HTML</td>\n",
       "      <td>0.08</td>\n",
       "    </tr>\n",
       "    <tr>\n",
       "      <th>2</th>\n",
       "      <td>CSS</td>\n",
       "      <td>0.05</td>\n",
       "    </tr>\n",
       "  </tbody>\n",
       "</table>\n",
       "</div>"
      ],
      "text/plain": [
       "      Language  Files Commit\n",
       "6       Python          0.50\n",
       "9            C          0.18\n",
       "10         C++          0.10\n",
       "5   Javascript          0.09\n",
       "3         HTML          0.08\n",
       "2          CSS          0.05"
      ]
     },
     "execution_count": 44,
     "metadata": {},
     "output_type": "execute_result"
    }
   ],
   "source": [
    "#Values in percentage \n",
    "#df.groupby('Name').size()\n",
    "dfLanguages['Files Commit'] = dfLanguages['Files Commit'].div(modificadosTotal).round(2)\n",
    "\n",
    "#remove o 0\n",
    "dfLanguages= dfLanguages[dfLanguages['Files Commit'] != 0]\n",
    "dfLanguages"
   ]
  },
  {
   "cell_type": "code",
   "execution_count": 45,
   "metadata": {},
   "outputs": [
    {
     "data": {
      "text/html": [
       "<div>\n",
       "<style scoped>\n",
       "    .dataframe tbody tr th:only-of-type {\n",
       "        vertical-align: middle;\n",
       "    }\n",
       "\n",
       "    .dataframe tbody tr th {\n",
       "        vertical-align: top;\n",
       "    }\n",
       "\n",
       "    .dataframe thead th {\n",
       "        text-align: right;\n",
       "    }\n",
       "</style>\n",
       "<table border=\"1\" class=\"dataframe\">\n",
       "  <thead>\n",
       "    <tr style=\"text-align: right;\">\n",
       "      <th></th>\n",
       "      <th>Language</th>\n",
       "      <th>Files Commit</th>\n",
       "    </tr>\n",
       "  </thead>\n",
       "  <tbody>\n",
       "    <tr>\n",
       "      <th>6</th>\n",
       "      <td>Python</td>\n",
       "      <td>0.50</td>\n",
       "    </tr>\n",
       "    <tr>\n",
       "      <th>9</th>\n",
       "      <td>C</td>\n",
       "      <td>0.18</td>\n",
       "    </tr>\n",
       "    <tr>\n",
       "      <th>10</th>\n",
       "      <td>C++</td>\n",
       "      <td>0.10</td>\n",
       "    </tr>\n",
       "    <tr>\n",
       "      <th>5</th>\n",
       "      <td>Javascript</td>\n",
       "      <td>0.09</td>\n",
       "    </tr>\n",
       "    <tr>\n",
       "      <th>3</th>\n",
       "      <td>HTML</td>\n",
       "      <td>0.08</td>\n",
       "    </tr>\n",
       "    <tr>\n",
       "      <th>2</th>\n",
       "      <td>CSS</td>\n",
       "      <td>0.05</td>\n",
       "    </tr>\n",
       "  </tbody>\n",
       "</table>\n",
       "</div>"
      ],
      "text/plain": [
       "      Language  Files Commit\n",
       "6       Python          0.50\n",
       "9            C          0.18\n",
       "10         C++          0.10\n",
       "5   Javascript          0.09\n",
       "3         HTML          0.08\n",
       "2          CSS          0.05"
      ]
     },
     "execution_count": 45,
     "metadata": {},
     "output_type": "execute_result"
    }
   ],
   "source": [
    "dfLanguages"
   ]
  },
  {
   "cell_type": "code",
   "execution_count": 46,
   "metadata": {},
   "outputs": [
    {
     "data": {
      "image/png": "[encoded data removed]",
      "text/plain": [
       "<Figure size 432x288 with 1 Axes>"
      ]
     },
     "metadata": {
      "needs_background": "light"
     },
     "output_type": "display_data"
    }
   ],
   "source": [
    "import matplotlib.pyplot as plt\n",
    "\n",
    "\n",
    "os.chdir(pathProjects)\n",
    "\n",
    "# a simple line plot\n",
    "dfLanguages.plot(kind='bar',x='Language',y='Files Commit',legend=None)\n",
    "\n",
    "plt.xticks(rotation=0, horizontalalignment=\"center\")\n",
    "# the plot gets saved to 'output.png'\n",
    "plt.savefig('barplot.png')\n",
    "#df.groupby('state')['name'].nunique().plot(kind='bar')"
   ]
  },
  {
   "cell_type": "code",
   "execution_count": 47,
   "metadata": {},
   "outputs": [
    {
     "data": {
      "text/html": [
       "<div>\n",
       "<style scoped>\n",
       "    .dataframe tbody tr th:only-of-type {\n",
       "        vertical-align: middle;\n",
       "    }\n",
       "\n",
       "    .dataframe tbody tr th {\n",
       "        vertical-align: top;\n",
       "    }\n",
       "\n",
       "    .dataframe thead th {\n",
       "        text-align: right;\n",
       "    }\n",
       "</style>\n",
       "<table border=\"1\" class=\"dataframe\">\n",
       "  <thead>\n",
       "    <tr style=\"text-align: right;\">\n",
       "      <th></th>\n",
       "      <th>Language</th>\n",
       "      <th>Files Commit</th>\n",
       "    </tr>\n",
       "  </thead>\n",
       "  <tbody>\n",
       "    <tr>\n",
       "      <th>6</th>\n",
       "      <td>Python</td>\n",
       "      <td>0.50</td>\n",
       "    </tr>\n",
       "    <tr>\n",
       "      <th>9</th>\n",
       "      <td>C</td>\n",
       "      <td>0.18</td>\n",
       "    </tr>\n",
       "    <tr>\n",
       "      <th>10</th>\n",
       "      <td>C++</td>\n",
       "      <td>0.10</td>\n",
       "    </tr>\n",
       "    <tr>\n",
       "      <th>5</th>\n",
       "      <td>Javascript</td>\n",
       "      <td>0.09</td>\n",
       "    </tr>\n",
       "    <tr>\n",
       "      <th>3</th>\n",
       "      <td>HTML</td>\n",
       "      <td>0.08</td>\n",
       "    </tr>\n",
       "  </tbody>\n",
       "</table>\n",
       "</div>"
      ],
      "text/plain": [
       "      Language  Files Commit\n",
       "6       Python          0.50\n",
       "9            C          0.18\n",
       "10         C++          0.10\n",
       "5   Javascript          0.09\n",
       "3         HTML          0.08"
      ]
     },
     "execution_count": 47,
     "metadata": {},
     "output_type": "execute_result"
    }
   ],
   "source": [
    "dfLanguages=dfLanguages.head(5)\n",
    "dfLanguages"
   ]
  },
  {
   "cell_type": "code",
   "execution_count": 48,
   "metadata": {},
   "outputs": [
    {
     "data": {
      "text/html": [
       "<div>\n",
       "<style scoped>\n",
       "    .dataframe tbody tr th:only-of-type {\n",
       "        vertical-align: middle;\n",
       "    }\n",
       "\n",
       "    .dataframe tbody tr th {\n",
       "        vertical-align: top;\n",
       "    }\n",
       "\n",
       "    .dataframe thead th {\n",
       "        text-align: right;\n",
       "    }\n",
       "</style>\n",
       "<table border=\"1\" class=\"dataframe\">\n",
       "  <thead>\n",
       "    <tr style=\"text-align: right;\">\n",
       "      <th></th>\n",
       "      <th>Language</th>\n",
       "      <th>#Loc</th>\n",
       "      <th>%</th>\n",
       "    </tr>\n",
       "  </thead>\n",
       "  <tbody>\n",
       "    <tr>\n",
       "      <th>3</th>\n",
       "      <td>HTML</td>\n",
       "      <td>86962</td>\n",
       "      <td>0.42</td>\n",
       "    </tr>\n",
       "    <tr>\n",
       "      <th>9</th>\n",
       "      <td>C</td>\n",
       "      <td>54705</td>\n",
       "      <td>0.26</td>\n",
       "    </tr>\n",
       "    <tr>\n",
       "      <th>5</th>\n",
       "      <td>Javascript</td>\n",
       "      <td>25862</td>\n",
       "      <td>0.12</td>\n",
       "    </tr>\n",
       "    <tr>\n",
       "      <th>6</th>\n",
       "      <td>Python</td>\n",
       "      <td>14161</td>\n",
       "      <td>0.07</td>\n",
       "    </tr>\n",
       "    <tr>\n",
       "      <th>10</th>\n",
       "      <td>C++</td>\n",
       "      <td>13261</td>\n",
       "      <td>0.06</td>\n",
       "    </tr>\n",
       "  </tbody>\n",
       "</table>\n",
       "</div>"
      ],
      "text/plain": [
       "      Language   #Loc     %\n",
       "3         HTML  86962  0.42\n",
       "9            C  54705  0.26\n",
       "5   Javascript  25862  0.12\n",
       "6       Python  14161  0.07\n",
       "10         C++  13261  0.06"
      ]
     },
     "execution_count": 48,
     "metadata": {},
     "output_type": "execute_result"
    }
   ],
   "source": [
    "# Join two dataset: loc and percent \n",
    "\n",
    "dfLoc = dfLoc.rename(columns={'Loc': '#Loc'})\n",
    "dfLocPercent=dfLocPercent.rename(columns={'Loc': '%'})\n",
    "\n",
    "dfLoConcat=pd.concat([dfLoc, dfLocPercent], axis=1)\n",
    "\n",
    "dfLoConcat[\"%\"] = dfLoConcat[\"%\"].fillna(0)\n",
    "dfLoConcat=dfLoConcat.sort_values(by=['%'],ascending=False)\n",
    "\n",
    "#dfLoConcat=dfLoConcat.sort_values(by=['#Loc'], ascending=False)\n",
    "\n",
    "dfLoConcat.head()"
   ]
  },
  {
   "cell_type": "code",
   "execution_count": 49,
   "metadata": {},
   "outputs": [],
   "source": [
    "import numpy as np # linear algebra\n",
    "import pandas as pd \n",
    "import matplotlib as mpl\n",
    "import matplotlib.pyplot as plt\n",
    "%matplotlib inline\n",
    "\n",
    "from subprocess import check_output\n",
    "from wordcloud import WordCloud\n",
    "\n",
    "if len(commit_data2.columns) != 0:\n",
    "    os.chdir(pathProjectsO)\n",
    "    mpl.rcParams['font.size']=12                \n",
    "    mpl.rcParams['savefig.dpi']=100             \n",
    "    mpl.rcParams['figure.subplot.bottom']=.1 \n",
    "\n",
    "\n",
    "    #stopwords = set(STOPWORDS)\n",
    "    #data = pd.read_csv(\"../input/most_backed.csv\")\n",
    "    dfnewTeste = dff['Second']\n",
    "    #dfnewTeste = dfnewTeste['Second'].values \n",
    "\n",
    "\n",
    "    #wordcloud = WordCloud(background_color='white',stopwords=stopwords,max_words=200,max_font_size=40,random_state=42).generate(str(dfnewTeste))\n",
    "    wordcloud = WordCloud(background_color='white').generate(str(dfnewTeste))\n",
    "\n",
    "    fig = plt.figure(1)\n",
    "    plt.imshow(wordcloud)\n",
    "    plt.axis('off')\n",
    "    fig.savefig(\"word1.png\", dpi=900)\n",
    "    plt.show()"
   ]
  },
  {
   "cell_type": "code",
   "execution_count": 50,
   "metadata": {},
   "outputs": [],
   "source": [
    "if len(commit_data2.columns) != 0:\n",
    "\n",
    "    uniqueValues =pd.DataFrame(newDtfLibraries)\n",
    "    uniqueValues=uniqueValues.drop_duplicates(['First'])\n",
    "    uniqueValues.head(5)"
   ]
  },
  {
   "cell_type": "code",
   "execution_count": 51,
   "metadata": {},
   "outputs": [],
   "source": [
    "if len(commit_data2.columns) != 0:\n",
    "    dn=newDtfLibraries.groupby([\"First\"]).size().reset_index(name=\"Amount\")\n",
    "    dn = dn[~dn['First'].isin(['//','/*',''])]\n",
    "    dn = dn.sort_values(['Amount'], ascending=[False])\n",
    "    dn['First'] = dn['First'].str.strip()\n",
    "    #df.iloc[0,0:3]\n",
    "    #x=dn[dn.First == 'jargs'].Amount"
   ]
  },
  {
   "cell_type": "code",
   "execution_count": 52,
   "metadata": {},
   "outputs": [
    {
     "data": {
      "text/plain": [
       "5"
      ]
     },
     "execution_count": 52,
     "metadata": {},
     "output_type": "execute_result"
    }
   ],
   "source": [
    "#Get qnt languages\n",
    "dfLanguages.Language.count()"
   ]
  },
  {
   "cell_type": "code",
   "execution_count": 53,
   "metadata": {},
   "outputs": [
    {
     "name": "stderr",
     "output_type": "stream",
     "text": [
      "/home/johnatan/.local/lib/python3.6/site-packages/ipykernel_launcher.py:2: SettingWithCopyWarning: \n",
      "A value is trying to be set on a copy of a slice from a DataFrame.\n",
      "Try using .loc[row_indexer,col_indexer] = value instead\n",
      "\n",
      "See the caveats in the documentation: https://pandas.pydata.org/pandas-docs/stable/user_guide/indexing.html#returning-a-view-versus-a-copy\n",
      "  \n"
     ]
    },
    {
     "data": {
      "text/html": [
       "<div>\n",
       "<style scoped>\n",
       "    .dataframe tbody tr th:only-of-type {\n",
       "        vertical-align: middle;\n",
       "    }\n",
       "\n",
       "    .dataframe tbody tr th {\n",
       "        vertical-align: top;\n",
       "    }\n",
       "\n",
       "    .dataframe thead th {\n",
       "        text-align: right;\n",
       "    }\n",
       "</style>\n",
       "<table border=\"1\" class=\"dataframe\">\n",
       "  <thead>\n",
       "    <tr style=\"text-align: right;\">\n",
       "      <th></th>\n",
       "      <th>Language</th>\n",
       "      <th>Files Commit</th>\n",
       "    </tr>\n",
       "  </thead>\n",
       "  <tbody>\n",
       "    <tr>\n",
       "      <th>6</th>\n",
       "      <td>Python</td>\n",
       "      <td>50.0%</td>\n",
       "    </tr>\n",
       "    <tr>\n",
       "      <th>9</th>\n",
       "      <td>C</td>\n",
       "      <td>18.0%</td>\n",
       "    </tr>\n",
       "    <tr>\n",
       "      <th>10</th>\n",
       "      <td>C++</td>\n",
       "      <td>10.0%</td>\n",
       "    </tr>\n",
       "    <tr>\n",
       "      <th>5</th>\n",
       "      <td>Javascript</td>\n",
       "      <td>9.0%</td>\n",
       "    </tr>\n",
       "    <tr>\n",
       "      <th>3</th>\n",
       "      <td>HTML</td>\n",
       "      <td>8.0%</td>\n",
       "    </tr>\n",
       "  </tbody>\n",
       "</table>\n",
       "</div>"
      ],
      "text/plain": [
       "      Language Files Commit\n",
       "6       Python        50.0%\n",
       "9            C        18.0%\n",
       "10         C++        10.0%\n",
       "5   Javascript         9.0%\n",
       "3         HTML         8.0%"
      ]
     },
     "execution_count": 53,
     "metadata": {},
     "output_type": "execute_result"
    }
   ],
   "source": [
    "#FIles commit\n",
    "dfLanguages['Files Commit'] =(round(dfLanguages['Files Commit']*100, 2)).astype(str) + '%'\n",
    "dfLanguages"
   ]
  },
  {
   "cell_type": "code",
   "execution_count": 54,
   "metadata": {},
   "outputs": [
    {
     "data": {
      "text/html": [
       "<div>\n",
       "<style scoped>\n",
       "    .dataframe tbody tr th:only-of-type {\n",
       "        vertical-align: middle;\n",
       "    }\n",
       "\n",
       "    .dataframe tbody tr th {\n",
       "        vertical-align: top;\n",
       "    }\n",
       "\n",
       "    .dataframe thead th {\n",
       "        text-align: right;\n",
       "    }\n",
       "</style>\n",
       "<table border=\"1\" class=\"dataframe\">\n",
       "  <thead>\n",
       "    <tr style=\"text-align: right;\">\n",
       "      <th></th>\n",
       "      <th>Language</th>\n",
       "      <th>#Loc</th>\n",
       "      <th>%</th>\n",
       "    </tr>\n",
       "  </thead>\n",
       "  <tbody>\n",
       "    <tr>\n",
       "      <th>3</th>\n",
       "      <td>HTML</td>\n",
       "      <td>86962</td>\n",
       "      <td>42.0%</td>\n",
       "    </tr>\n",
       "    <tr>\n",
       "      <th>9</th>\n",
       "      <td>C</td>\n",
       "      <td>54705</td>\n",
       "      <td>26.0%</td>\n",
       "    </tr>\n",
       "    <tr>\n",
       "      <th>5</th>\n",
       "      <td>Javascript</td>\n",
       "      <td>25862</td>\n",
       "      <td>12.0%</td>\n",
       "    </tr>\n",
       "    <tr>\n",
       "      <th>6</th>\n",
       "      <td>Python</td>\n",
       "      <td>14161</td>\n",
       "      <td>7.0%</td>\n",
       "    </tr>\n",
       "    <tr>\n",
       "      <th>10</th>\n",
       "      <td>C++</td>\n",
       "      <td>13261</td>\n",
       "      <td>6.0%</td>\n",
       "    </tr>\n",
       "    <tr>\n",
       "      <th>2</th>\n",
       "      <td>CSS</td>\n",
       "      <td>12738</td>\n",
       "      <td>6.0%</td>\n",
       "    </tr>\n",
       "  </tbody>\n",
       "</table>\n",
       "</div>"
      ],
      "text/plain": [
       "      Language   #Loc      %\n",
       "3         HTML  86962  42.0%\n",
       "9            C  54705  26.0%\n",
       "5   Javascript  25862  12.0%\n",
       "6       Python  14161   7.0%\n",
       "10         C++  13261   6.0%\n",
       "2          CSS  12738   6.0%"
      ]
     },
     "execution_count": 54,
     "metadata": {},
     "output_type": "execute_result"
    }
   ],
   "source": [
    "#Lines of COde \n",
    "dfLoConcat= dfLoConcat[dfLoConcat['%'] != 0]\n",
    "dfLoConcat['%'] =(round(dfLoConcat['%']*100, 2)).astype(str) + '%'\n",
    "\n",
    "\n",
    "dfLoConcat"
   ]
  },
  {
   "cell_type": "code",
   "execution_count": 55,
   "metadata": {},
   "outputs": [
    {
     "name": "stdout",
     "output_type": "stream",
     "text": [
      "Python\n",
      "C\n",
      "C++\n",
      "Javascript\n",
      "HTML\n"
     ]
    }
   ],
   "source": [
    "for index, row in dfLanguages.iterrows():\n",
    "    print (row[\"Language\"])"
   ]
  },
  {
   "cell_type": "code",
   "execution_count": 56,
   "metadata": {},
   "outputs": [
    {
     "name": "stdout",
     "output_type": "stream",
     "text": [
      "50.0%\n",
      "18.0%\n",
      "10.0%\n",
      "9.0%\n",
      "8.0%\n"
     ]
    }
   ],
   "source": [
    "for index, row in dfLanguages.iterrows():\n",
    "    print (row[\"Files Commit\"])"
   ]
  },
  {
   "cell_type": "code",
   "execution_count": 57,
   "metadata": {},
   "outputs": [
    {
     "name": "stdout",
     "output_type": "stream",
     "text": [
      " <h5>Python</h5>\n",
      "                        <div class=\"progress\">\n",
      "                           <div class=\"progress-bar\" role=\"progressbar\" aria-valuenow=\"30\" aria-valuemin=\"0\" aria-valuemax=\"100\" style=\"width:50.0%\">50.0%\n",
      "                           </div>\n",
      "                        </div> <h5>C</h5>\n",
      "                        <div class=\"progress\">\n",
      "                           <div class=\"progress-bar\" role=\"progressbar\" aria-valuenow=\"30\" aria-valuemin=\"0\" aria-valuemax=\"100\" style=\"width:18.0%\">18.0%\n",
      "                           </div>\n",
      "                        </div> <h5>C++</h5>\n",
      "                        <div class=\"progress\">\n",
      "                           <div class=\"progress-bar\" role=\"progressbar\" aria-valuenow=\"30\" aria-valuemin=\"0\" aria-valuemax=\"100\" style=\"width:10.0%\">10.0%\n",
      "                           </div>\n",
      "                        </div> <h5>Javascript</h5>\n",
      "                        <div class=\"progress\">\n",
      "                           <div class=\"progress-bar\" role=\"progressbar\" aria-valuenow=\"30\" aria-valuemin=\"0\" aria-valuemax=\"100\" style=\"width:9.0%\">9.0%\n",
      "                           </div>\n",
      "                        </div> <h5>HTML</h5>\n",
      "                        <div class=\"progress\">\n",
      "                           <div class=\"progress-bar\" role=\"progressbar\" aria-valuenow=\"30\" aria-valuemin=\"0\" aria-valuemax=\"100\" style=\"width:8.0%\">8.0%\n",
      "                           </div>\n",
      "                        </div>\n"
     ]
    }
   ],
   "source": [
    "docHtmlLangCom=''\n",
    "for index, row in dfLanguages.iterrows():\n",
    "    docHtmlLangCom+=''' <h5>'''+row[\"Language\"]+'''</h5>\n",
    "                        <div class=\"progress\">\n",
    "                           <div class=\"progress-bar\" role=\"progressbar\" aria-valuenow=\"30\" aria-valuemin=\"0\" aria-valuemax=\"100\" style=\"width:'''+row[\"Files Commit\"]+'''\">'''+str(row[\"Files Commit\"])+'''\n",
    "                           </div>\n",
    "                        </div>'''\n",
    "print(docHtmlLangCom)"
   ]
  },
  {
   "cell_type": "code",
   "execution_count": 58,
   "metadata": {},
   "outputs": [
    {
     "name": "stdout",
     "output_type": "stream",
     "text": [
      " <h5>HTML</h5>\n",
      "                        <div class=\"progress\">\n",
      "                           <div class=\"progress-bar\" role=\"progressbar\" aria-valuenow=\"30\" aria-valuemin=\"0\" aria-valuemax=\"100\" style=\"width:42.0%\">42.0%\n",
      "                           </div>\n",
      "                        </div> <h5>C</h5>\n",
      "                        <div class=\"progress\">\n",
      "                           <div class=\"progress-bar\" role=\"progressbar\" aria-valuenow=\"30\" aria-valuemin=\"0\" aria-valuemax=\"100\" style=\"width:26.0%\">26.0%\n",
      "                           </div>\n",
      "                        </div> <h5>Javascript</h5>\n",
      "                        <div class=\"progress\">\n",
      "                           <div class=\"progress-bar\" role=\"progressbar\" aria-valuenow=\"30\" aria-valuemin=\"0\" aria-valuemax=\"100\" style=\"width:12.0%\">12.0%\n",
      "                           </div>\n",
      "                        </div> <h5>Python</h5>\n",
      "                        <div class=\"progress\">\n",
      "                           <div class=\"progress-bar\" role=\"progressbar\" aria-valuenow=\"30\" aria-valuemin=\"0\" aria-valuemax=\"100\" style=\"width:7.0%\">7.0%\n",
      "                           </div>\n",
      "                        </div> <h5>C++</h5>\n",
      "                        <div class=\"progress\">\n",
      "                           <div class=\"progress-bar\" role=\"progressbar\" aria-valuenow=\"30\" aria-valuemin=\"0\" aria-valuemax=\"100\" style=\"width:6.0%\">6.0%\n",
      "                           </div>\n",
      "                        </div> <h5>CSS</h5>\n",
      "                        <div class=\"progress\">\n",
      "                           <div class=\"progress-bar\" role=\"progressbar\" aria-valuenow=\"30\" aria-valuemin=\"0\" aria-valuemax=\"100\" style=\"width:6.0%\">6.0%\n",
      "                           </div>\n",
      "                        </div>\n"
     ]
    }
   ],
   "source": [
    "docHtmlLangLoc=''\n",
    "for index, row in dfLoConcat.iterrows():\n",
    "    docHtmlLangLoc+=''' <h5>'''+row[\"Language\"]+'''</h5>\n",
    "                        <div class=\"progress\">\n",
    "                           <div class=\"progress-bar\" role=\"progressbar\" aria-valuenow=\"30\" aria-valuemin=\"0\" aria-valuemax=\"100\" style=\"width:'''+row[\"%\"]+'''\">'''+str(row[\"%\"])+'''\n",
    "                           </div>\n",
    "                        </div>'''\n",
    "print(docHtmlLangLoc)"
   ]
  },
  {
   "cell_type": "code",
   "execution_count": 59,
   "metadata": {},
   "outputs": [],
   "source": [
    "if(len(commit_data2.columns)!= 0):\n",
    "    dff['Second']=dff['Second'].str.split('.').str[-1]\n",
    "    docHtmlDf=dff.head(5).to_html(index=False)\n",
    "else:\n",
    "    docHtmlDf=\"\""
   ]
  },
  {
   "cell_type": "code",
   "execution_count": 60,
   "metadata": {},
   "outputs": [],
   "source": [
    "if(len(commit_data2.columns)!= 0):\n",
    "    dfLibrarySubPath['Second']=dfLibrarySubPath['Second'].str.split('.').str[-1]\n",
    "    docHtmlDfPath=dfLibrarySubPath.to_html(index=False)\n",
    "    docHtmlWordCl='<img src=\"word1.png\" alt=\"Mountains\" style=\"width:100%\">'\n",
    "    docHtmlLib='''<div class=\"column\">\n",
    "                  <center><h2>Library Intensity</h2></center>\n",
    "                    '''+docHtmlDf+'''\n",
    "                  </div>\n",
    "                  <div class=\"column\">\n",
    "                  <center><h2>Library Extensive</h2></center>\n",
    "                    '''+docHtmlDfPath+'''\n",
    "                  </div>\n",
    "                  <div class=\"column\">\n",
    "                  <center><h2>Subpackage-Library</h2></center>\n",
    "                    '''+docHtmlWordCl+'''\n",
    "                  </div>'''\n",
    "else:\n",
    "    docHtmlDfPath=\"\"\n",
    "    docHtmlWordCl=\"\"\n",
    "    docHtmlLib=''"
   ]
  },
  {
   "cell_type": "code",
   "execution_count": 61,
   "metadata": {},
   "outputs": [],
   "source": [
    "message = '''<!DOCTYPE html>\n",
    "<html lang=\"en\">\n",
    "   <head>\n",
    "      <meta charset=\"utf-8\">\n",
    "      <meta name=\"viewport\" content=\"width=device-width, initial-scale=1, shrink-to-fit=no\">\n",
    "      <meta name=\"description\" content=\"\">\n",
    "      <meta name=\"author\" content=\"\">\n",
    "      <title>Skills</title>\n",
    "      <!-- Bootstrap core CSS -->\n",
    "      <link href=\"../../template/vendor/bootstrap/css/bootstrap.min.css\" rel=\"stylesheet\">\n",
    "      <!-- Custom styles for this template -->\n",
    "      <link href=\"../../template/css/scrolling-nav.css\" rel=\"stylesheet\">\n",
    "   </head>\n",
    "   <body id=\"page-top\">\n",
    "      <center>\n",
    "         <!-- Navigation -->\n",
    "         <nav class=\"navbar navbar-expand-lg navbar-dark bg-dark fixed-top\" id=\"mainNav\">\n",
    "            <div class=\"container\">\n",
    "               <a class=\"navbar-brand js-scroll-trigger\" href=\"#page-top\">Home</a>\n",
    "               <button class=\"navbar-toggler\" type=\"button\" data-toggle=\"collapse\" data-target=\"#navbarResponsive\" aria-controls=\"navbarResponsive\" aria-expanded=\"false\" aria-label=\"Toggle navigation\">\n",
    "               <span class=\"navbar-toggler-icon\"></gitUserNamespan>\n",
    "               </button>\n",
    "               <div class=\"collapse navbar-collapse\" id=\"navbarResponsive\">\n",
    "                  <ul class=\"navbar-nav ml-auto\">\n",
    "                     <li class=\"nav-item\">\n",
    "                        <a class=\"nav-link js-scroll-trigger\" href=\"#about\">About</a>\n",
    "                     </li>\n",
    "                  </ul>\n",
    "               </div>\n",
    "            </div>\n",
    "         </nav>\n",
    "         <header class=\"bg-primary text-white\">\n",
    "            <div class=\"container text-center\">\n",
    "               <a href=\"https://github.com/'''+gitUserName+'''\">\n",
    "               <img alt=\"Qries\" src='''+avatar_url+''' width=\"150\" height=\"150\">\n",
    "               </a>\n",
    "               <h1>'''+authorTarget+'''</h1>\n",
    "               <h4>'''+gitUserName+'''</h4>\n",
    "            </div>\n",
    "         </header>\n",
    "         <section id=\"about\">\n",
    "   <div class=\"container\">\n",
    "     \n",
    "     <div class=\"box\">\n",
    "     \n",
    "     <div id = \"boxes\"> \n",
    "            <div id = \"titleLang\">\n",
    "\n",
    "                <h1 style=\"height:10%;text-align:center;position:relative;top:40%;\">Languages</h1>\n",
    "\n",
    "              </div>\n",
    "            <div id = \"leftbox\"> \n",
    "                <h2>Option A</h2> \n",
    "                '''+docHtmlLangCom+''' \n",
    "            </div>  \n",
    "              \n",
    "            <div id = \"middlebox\"> \n",
    "                <h2>Option B</h2> \n",
    "               '''+docHtmlLangLoc+'''\n",
    "            </div> \n",
    "              \n",
    "            \n",
    "        </div> \n",
    "        \n",
    "     <div id = \"boxes\"> \n",
    "            <div id = \"titleLang\">\n",
    "                <h1 style=\"height:10%;text-align:left;position:relative;top:40%;\">Backend and Frontend</h1>\n",
    "              </div>\n",
    "            <div id = \"leftboxE\"> \n",
    "                <h2>Option A</h2> \n",
    "                     <img src=\"backfrontCommits.png\" style=\"width:70%\">\n",
    "            </div>  \n",
    "            <div id = \"middleboxE\"> \n",
    "                <h2>Option B</h2> \n",
    "                 <img src=\"backfrontLoc.png\" style=\"width:70%\">\n",
    "            </div> \n",
    "        </div> \n",
    "        \n",
    "         <div id = \"boxes\"> \n",
    "            <div id = \"titleLang\">\n",
    "                <h1 style=\"height:1%;text-align:center;position:relative;top:10%;\">Test-Development</h1>\n",
    "              </div>\n",
    "            <div id = \"leftboxE\"> \n",
    "                <h2>Option A</h2> \n",
    "               <img src=\"fileCommitTest.png\" style=\"width:70%\">\n",
    "            </div>  \n",
    "            <div id = \"middleboxE\"> \n",
    "                <h2>Option B</h2> \n",
    "               <img src='''+locTestPng+''' style=\"width:70%\">\n",
    "              </div>\n",
    "         </div>\n",
    "\n",
    "      </div>\n",
    "   </div>\n",
    "     \n",
    "     \n",
    "     \n",
    "     \n",
    "   \n",
    "</section>\n",
    "         <!-- Footer -->\n",
    "         <footer class=\"py-5 bg-dark\">\n",
    "            <div class=\"container\">\n",
    "               <p class=\"m-0 text-center text-white\">Copyright &copy; JExpert 2.0 2020</p>\n",
    "            </div>\n",
    "            <!-- /.container -->\n",
    "         </footer>\n",
    "         <!-- Bootstrap core JavaScript -->\n",
    "         <script src=\"vendor/jquery/jquery.min.js\"></script>\n",
    "         <script src=\"vendor/bootstrap/js/bootstrap.bundle.min.js\"></script>\n",
    "         <!-- Plugin JavaScript -->\n",
    "         <script src=\"vendor/jquery-easing/jquery.easing.min.js\"></script>\n",
    "         <!-- Custom JavaScript for this theme -->\n",
    "         <script src=\"js/scrolling-nav.js\"></script>\n",
    "      </center>\n",
    "   </body>\n",
    "</html>'''\n"
   ]
  },
  {
   "cell_type": "code",
   "execution_count": 62,
   "metadata": {
    "scrolled": true
   },
   "outputs": [
    {
     "data": {
      "text/html": [
       "<!DOCTYPE html>\n",
       "<html lang=\"en\">\n",
       "   <head>\n",
       "      <meta charset=\"utf-8\">\n",
       "      <meta name=\"viewport\" content=\"width=device-width, initial-scale=1, shrink-to-fit=no\">\n",
       "      <meta name=\"description\" content=\"\">\n",
       "      <meta name=\"author\" content=\"\">\n",
       "      <title>Skills</title>\n",
       "      <!-- Bootstrap core CSS -->\n",
       "      <link href=\"../../template/vendor/bootstrap/css/bootstrap.min.css\" rel=\"stylesheet\">\n",
       "      <!-- Custom styles for this template -->\n",
       "      <link href=\"../../template/css/scrolling-nav.css\" rel=\"stylesheet\">\n",
       "   </head>\n",
       "   <body id=\"page-top\">\n",
       "      <center>\n",
       "         <!-- Navigation -->\n",
       "         <nav class=\"navbar navbar-expand-lg navbar-dark bg-dark fixed-top\" id=\"mainNav\">\n",
       "            <div class=\"container\">\n",
       "               <a class=\"navbar-brand js-scroll-trigger\" href=\"#page-top\">Home</a>\n",
       "               <button class=\"navbar-toggler\" type=\"button\" data-toggle=\"collapse\" data-target=\"#navbarResponsive\" aria-controls=\"navbarResponsive\" aria-expanded=\"false\" aria-label=\"Toggle navigation\">\n",
       "               <span class=\"navbar-toggler-icon\"></gitUserNamespan>\n",
       "               </button>\n",
       "               <div class=\"collapse navbar-collapse\" id=\"navbarResponsive\">\n",
       "                  <ul class=\"navbar-nav ml-auto\">\n",
       "                     <li class=\"nav-item\">\n",
       "                        <a class=\"nav-link js-scroll-trigger\" href=\"#about\">About</a>\n",
       "                     </li>\n",
       "                  </ul>\n",
       "               </div>\n",
       "            </div>\n",
       "         </nav>\n",
       "         <header class=\"bg-primary text-white\">\n",
       "            <div class=\"container text-center\">\n",
       "               <a href=\"https://github.com/arora-aditya\">\n",
       "               <img alt=\"Qries\" src=https://avatars2.githubusercontent.com/u/10962267?v=4 width=\"150\" height=\"150\">\n",
       "               </a>\n",
       "               <h1>Aditya Arora</h1>\n",
       "               <h4>arora-aditya</h4>\n",
       "            </div>\n",
       "         </header>\n",
       "         <section id=\"about\">\n",
       "   <div class=\"container\">\n",
       "     \n",
       "     <div class=\"box\">\n",
       "     \n",
       "     <div id = \"boxes\"> \n",
       "            <div id = \"titleLang\">\n",
       "\n",
       "                <h1 style=\"height:10%;text-align:center;position:relative;top:40%;\">Languages</h1>\n",
       "\n",
       "              </div>\n",
       "            <div id = \"leftbox\"> \n",
       "                <h2>Option A</h2> \n",
       "                 <h5>Python</h5>\n",
       "                        <div class=\"progress\">\n",
       "                           <div class=\"progress-bar\" role=\"progressbar\" aria-valuenow=\"30\" aria-valuemin=\"0\" aria-valuemax=\"100\" style=\"width:50.0%\">50.0%\n",
       "                           </div>\n",
       "                        </div> <h5>C</h5>\n",
       "                        <div class=\"progress\">\n",
       "                           <div class=\"progress-bar\" role=\"progressbar\" aria-valuenow=\"30\" aria-valuemin=\"0\" aria-valuemax=\"100\" style=\"width:18.0%\">18.0%\n",
       "                           </div>\n",
       "                        </div> <h5>C++</h5>\n",
       "                        <div class=\"progress\">\n",
       "                           <div class=\"progress-bar\" role=\"progressbar\" aria-valuenow=\"30\" aria-valuemin=\"0\" aria-valuemax=\"100\" style=\"width:10.0%\">10.0%\n",
       "                           </div>\n",
       "                        </div> <h5>Javascript</h5>\n",
       "                        <div class=\"progress\">\n",
       "                           <div class=\"progress-bar\" role=\"progressbar\" aria-valuenow=\"30\" aria-valuemin=\"0\" aria-valuemax=\"100\" style=\"width:9.0%\">9.0%\n",
       "                           </div>\n",
       "                        </div> <h5>HTML</h5>\n",
       "                        <div class=\"progress\">\n",
       "                           <div class=\"progress-bar\" role=\"progressbar\" aria-valuenow=\"30\" aria-valuemin=\"0\" aria-valuemax=\"100\" style=\"width:8.0%\">8.0%\n",
       "                           </div>\n",
       "                        </div> \n",
       "            </div>  \n",
       "              \n",
       "            <div id = \"middlebox\"> \n",
       "                <h2>Option B</h2> \n",
       "                <h5>HTML</h5>\n",
       "                        <div class=\"progress\">\n",
       "                           <div class=\"progress-bar\" role=\"progressbar\" aria-valuenow=\"30\" aria-valuemin=\"0\" aria-valuemax=\"100\" style=\"width:42.0%\">42.0%\n",
       "                           </div>\n",
       "                        </div> <h5>C</h5>\n",
       "                        <div class=\"progress\">\n",
       "                           <div class=\"progress-bar\" role=\"progressbar\" aria-valuenow=\"30\" aria-valuemin=\"0\" aria-valuemax=\"100\" style=\"width:26.0%\">26.0%\n",
       "                           </div>\n",
       "                        </div> <h5>Javascript</h5>\n",
       "                        <div class=\"progress\">\n",
       "                           <div class=\"progress-bar\" role=\"progressbar\" aria-valuenow=\"30\" aria-valuemin=\"0\" aria-valuemax=\"100\" style=\"width:12.0%\">12.0%\n",
       "                           </div>\n",
       "                        </div> <h5>Python</h5>\n",
       "                        <div class=\"progress\">\n",
       "                           <div class=\"progress-bar\" role=\"progressbar\" aria-valuenow=\"30\" aria-valuemin=\"0\" aria-valuemax=\"100\" style=\"width:7.0%\">7.0%\n",
       "                           </div>\n",
       "                        </div> <h5>C++</h5>\n",
       "                        <div class=\"progress\">\n",
       "                           <div class=\"progress-bar\" role=\"progressbar\" aria-valuenow=\"30\" aria-valuemin=\"0\" aria-valuemax=\"100\" style=\"width:6.0%\">6.0%\n",
       "                           </div>\n",
       "                        </div> <h5>CSS</h5>\n",
       "                        <div class=\"progress\">\n",
       "                           <div class=\"progress-bar\" role=\"progressbar\" aria-valuenow=\"30\" aria-valuemin=\"0\" aria-valuemax=\"100\" style=\"width:6.0%\">6.0%\n",
       "                           </div>\n",
       "                        </div>\n",
       "            </div> \n",
       "              \n",
       "            \n",
       "        </div> \n",
       "        \n",
       "     <div id = \"boxes\"> \n",
       "            <div id = \"titleLang\">\n",
       "                <h1 style=\"height:10%;text-align:left;position:relative;top:40%;\">Backend and Frontend</h1>\n",
       "              </div>\n",
       "            <div id = \"leftboxE\"> \n",
       "                <h2>Option A</h2> \n",
       "                     <img src=\"backfrontCommits.png\" style=\"width:70%\">\n",
       "            </div>  \n",
       "            <div id = \"middleboxE\"> \n",
       "                <h2>Option B</h2> \n",
       "                 <img src=\"backfrontLoc.png\" style=\"width:70%\">\n",
       "            </div> \n",
       "        </div> \n",
       "        \n",
       "         <div id = \"boxes\"> \n",
       "            <div id = \"titleLang\">\n",
       "                <h1 style=\"height:1%;text-align:center;position:relative;top:10%;\">Test-Development</h1>\n",
       "              </div>\n",
       "            <div id = \"leftboxE\"> \n",
       "                <h2>Option A</h2> \n",
       "               <img src=\"fileCommitTest.png\" style=\"width:70%\">\n",
       "            </div>  \n",
       "            <div id = \"middleboxE\"> \n",
       "                <h2>Option B</h2> \n",
       "               <img src=locTest.png style=\"width:70%\">\n",
       "              </div>\n",
       "         </div>\n",
       "\n",
       "      </div>\n",
       "   </div>\n",
       "     \n",
       "     \n",
       "     \n",
       "     \n",
       "   \n",
       "</section>\n",
       "         <!-- Footer -->\n",
       "         <footer class=\"py-5 bg-dark\">\n",
       "            <div class=\"container\">\n",
       "               <p class=\"m-0 text-center text-white\">Copyright &copy; JExpert 2.0 2020</p>\n",
       "            </div>\n",
       "            <!-- /.container -->\n",
       "         </footer>\n",
       "         <!-- Bootstrap core JavaScript -->\n",
       "         <script src=\"vendor/jquery/jquery.min.js\"></script>\n",
       "         <script src=\"vendor/bootstrap/js/bootstrap.bundle.min.js\"></script>\n",
       "         <!-- Plugin JavaScript -->\n",
       "         <script src=\"vendor/jquery-easing/jquery.easing.min.js\"></script>\n",
       "         <!-- Custom JavaScript for this theme -->\n",
       "         <script src=\"js/scrolling-nav.js\"></script>\n",
       "      </center>\n",
       "   </body>\n",
       "</html>"
      ],
      "text/plain": [
       "<IPython.core.display.HTML object>"
      ]
     },
     "metadata": {},
     "output_type": "display_data"
    }
   ],
   "source": [
    "from IPython.core.display import display, HTML\n",
    "display(HTML(message))\n",
    "os.chdir(pathProjectsO)\n",
    "\n",
    "with open(authorTarget+\".html\", \"w\") as file:file.write(message)"
   ]
  },
  {
   "cell_type": "code",
   "execution_count": 63,
   "metadata": {},
   "outputs": [
    {
     "name": "stdout",
     "output_type": "stream",
     "text": [
      "pdf\n"
     ]
    }
   ],
   "source": [
    "import pdfkit \n",
    "os.chdir(pathProjectsO)\n",
    "\n",
    "\n",
    "try:\n",
    "    #pdfkit.from_file(authorTarget+\".html\", \"/home/johnatan/Downloads/\"+gitUserName+\".pdf\") \n",
    "    pdfkit.from_file(authorTarget+\".html\", \"/media/johnatan/SAMSUNG/toSend/\"+gitUserName+\".pdf\") \n",
    "except:\n",
    "    print(\"pdf\")"
   ]
  },
  {
   "cell_type": "code",
   "execution_count": 64,
   "metadata": {},
   "outputs": [],
   "source": [
    "import csv \n",
    "\n",
    "#emails=commit_dataEmail.drop_duplicates(['email'])\n",
    "\n",
    "email=commit_data['author'].iloc[0]\n",
    "\n",
    "row_list = [[gitUserName, email]]\n",
    "\n",
    "with open('/media/johnatan/SAMSUNG/emails2.csv', 'a', newline='') as file: \n",
    "    writer = csv.writer(file, quoting=csv.QUOTE_NONNUMERIC, delimiter=';') \n",
    "    writer.writerows(row_list)"
   ]
  },
  {
   "cell_type": "code",
   "execution_count": 65,
   "metadata": {},
   "outputs": [
    {
     "name": "stdout",
     "output_type": "stream",
     "text": [
      "arora-aditya\n"
     ]
    }
   ],
   "source": [
    "import os\n",
    "duration = 2 # seconds\n",
    "freq = 440  # Hz\n",
    "os.system('play -nq -t alsa synth {} sine {}'.format(duration, freq))\n",
    "\n",
    "#dir_path=\"/media/johnatan/SAMSUNG/SANER2021/\"+gitUserName+\"/\"\n",
    "\n",
    "#import shutil\n",
    "\n",
    "#shutil.rmtree(dir_path, ignore_errors=True)\n",
    "\n",
    "print(gitUserName)"
   ]
  },
  {
   "cell_type": "code",
   "execution_count": null,
   "metadata": {},
   "outputs": [],
   "source": []
  }
 ],
 "metadata": {
  "kernelspec": {
   "display_name": "Python 3",
   "language": "python",
   "name": "python3"
  },
  "language_info": {
   "codemirror_mode": {
    "name": "ipython",
    "version": 3
   },
   "file_extension": ".py",
   "mimetype": "text/x-python",
   "name": "python",
   "nbconvert_exporter": "python",
   "pygments_lexer": "ipython3",
   "version": "3.6.9"
  }
 },
 "nbformat": 4,
 "nbformat_minor": 4
}
