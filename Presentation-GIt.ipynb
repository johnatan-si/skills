{
 "cells": [
  {
   "cell_type": "code",
   "execution_count": 99,
   "metadata": {},
   "outputs": [
    {
     "data": {
      "text/html": [
       "<div>\n",
       "<style scoped>\n",
       "    .dataframe tbody tr th:only-of-type {\n",
       "        vertical-align: middle;\n",
       "    }\n",
       "\n",
       "    .dataframe tbody tr th {\n",
       "        vertical-align: top;\n",
       "    }\n",
       "\n",
       "    .dataframe thead th {\n",
       "        text-align: right;\n",
       "    }\n",
       "</style>\n",
       "<table border=\"1\" class=\"dataframe\">\n",
       "  <thead>\n",
       "    <tr style=\"text-align: right;\">\n",
       "      <th></th>\n",
       "      <th>additions</th>\n",
       "      <th>deletions</th>\n",
       "      <th>path</th>\n",
       "      <th>author</th>\n",
       "    </tr>\n",
       "  </thead>\n",
       "  <tbody>\n",
       "    <tr>\n",
       "      <th>1</th>\n",
       "      <td>1</td>\n",
       "      <td>6</td>\n",
       "      <td>core/server/master/src/main/java/alluxio/maste...</td>\n",
       "      <td>Destiny</td>\n",
       "    </tr>\n",
       "    <tr>\n",
       "      <th>3</th>\n",
       "      <td>1</td>\n",
       "      <td>1</td>\n",
       "      <td>docs/cn/Running-Alluxio-On-Docker.md</td>\n",
       "      <td>yawenouyang</td>\n",
       "    </tr>\n",
       "    <tr>\n",
       "      <th>5</th>\n",
       "      <td>43</td>\n",
       "      <td>14</td>\n",
       "      <td>docs/cn/Running-Alluxio-on-EC2.md</td>\n",
       "      <td>tyt951021</td>\n",
       "    </tr>\n",
       "    <tr>\n",
       "      <th>7</th>\n",
       "      <td>1</td>\n",
       "      <td>7</td>\n",
       "      <td>core/server/worker/src/main/java/alluxio/worke...</td>\n",
       "      <td>zly245726114</td>\n",
       "    </tr>\n",
       "    <tr>\n",
       "      <th>9</th>\n",
       "      <td>1</td>\n",
       "      <td>6</td>\n",
       "      <td>core/server/worker/src/main/java/alluxio/worke...</td>\n",
       "      <td>1429904852</td>\n",
       "    </tr>\n",
       "  </tbody>\n",
       "</table>\n",
       "</div>"
      ],
      "text/plain": [
       "  additions deletions                                               path  \\\n",
       "1         1         6  core/server/master/src/main/java/alluxio/maste...   \n",
       "3         1         1               docs/cn/Running-Alluxio-On-Docker.md   \n",
       "5        43        14                  docs/cn/Running-Alluxio-on-EC2.md   \n",
       "7         1         7  core/server/worker/src/main/java/alluxio/worke...   \n",
       "9         1         6  core/server/worker/src/main/java/alluxio/worke...   \n",
       "\n",
       "         author  \n",
       "1       Destiny  \n",
       "3   yawenouyang  \n",
       "5     tyt951021  \n",
       "7  zly245726114  \n",
       "9    1429904852  "
      ]
     },
     "execution_count": 99,
     "metadata": {},
     "output_type": "execute_result"
    }
   ],
   "source": [
    "from scipy.interpolate import interp1d\n",
    "import numpy as np\n",
    "\n",
    "import shlex\n",
    "import subprocess as sp\n",
    "\n",
    "import prettyplotlib as ppl\n",
    "from matplotlib import pyplot as plt\n",
    "from matplotlib.ticker import FuncFormatter\n",
    "import io\n",
    "from pandas import read_csv\n",
    "import os\n",
    "\n",
    "os.chdir(\"/home/johnatan/Downloads/projects/alluxio/\")\n",
    "\n",
    "cmd = 'git log --no-merges --no-renames --numstat --pretty=format:\"%x09%x09%x09%aN\"'\n",
    "p = sp.Popen(shlex.split(cmd), stdout=sp.PIPE)\n",
    "\n",
    "stdout, _ = p.communicate()\n",
    "\n",
    "table = read_csv(io.StringIO(stdout.decode('utf-8')), sep=\"\\x09\", header=None,names=['additions', 'deletions', 'path','author'])\n",
    "\n",
    "# convert to DataFrame\n",
    "commit_data = table[['additions', 'deletions', 'path']].join(table[['author']].fillna(method='ffill')).dropna()\n",
    "commit_data.head()\n",
    "\n",
    "#commit_data.to_csv(\"testeP.csv\")\n"
   ]
  },
  {
   "cell_type": "code",
   "execution_count": 100,
   "metadata": {},
   "outputs": [
    {
     "data": {
      "text/html": [
       "<div>\n",
       "<style scoped>\n",
       "    .dataframe tbody tr th:only-of-type {\n",
       "        vertical-align: middle;\n",
       "    }\n",
       "\n",
       "    .dataframe tbody tr th {\n",
       "        vertical-align: top;\n",
       "    }\n",
       "\n",
       "    .dataframe thead th {\n",
       "        text-align: right;\n",
       "    }\n",
       "</style>\n",
       "<table border=\"1\" class=\"dataframe\">\n",
       "  <thead>\n",
       "    <tr style=\"text-align: right;\">\n",
       "      <th></th>\n",
       "      <th>additions</th>\n",
       "      <th>deletions</th>\n",
       "      <th>path</th>\n",
       "      <th>author</th>\n",
       "    </tr>\n",
       "  </thead>\n",
       "  <tbody>\n",
       "    <tr>\n",
       "      <th>1</th>\n",
       "      <td>1</td>\n",
       "      <td>6</td>\n",
       "      <td>java</td>\n",
       "      <td>Destiny</td>\n",
       "    </tr>\n",
       "    <tr>\n",
       "      <th>3</th>\n",
       "      <td>1</td>\n",
       "      <td>1</td>\n",
       "      <td>md</td>\n",
       "      <td>yawenouyang</td>\n",
       "    </tr>\n",
       "    <tr>\n",
       "      <th>5</th>\n",
       "      <td>43</td>\n",
       "      <td>14</td>\n",
       "      <td>md</td>\n",
       "      <td>tyt951021</td>\n",
       "    </tr>\n",
       "    <tr>\n",
       "      <th>7</th>\n",
       "      <td>1</td>\n",
       "      <td>7</td>\n",
       "      <td>java</td>\n",
       "      <td>zly245726114</td>\n",
       "    </tr>\n",
       "    <tr>\n",
       "      <th>9</th>\n",
       "      <td>1</td>\n",
       "      <td>6</td>\n",
       "      <td>java</td>\n",
       "      <td>1429904852</td>\n",
       "    </tr>\n",
       "  </tbody>\n",
       "</table>\n",
       "</div>"
      ],
      "text/plain": [
       "  additions deletions  path        author\n",
       "1         1         6  java       Destiny\n",
       "3         1         1    md   yawenouyang\n",
       "5        43        14    md     tyt951021\n",
       "7         1         7  java  zly245726114\n",
       "9         1         6  java    1429904852"
      ]
     },
     "execution_count": 100,
     "metadata": {},
     "output_type": "execute_result"
    }
   ],
   "source": [
    "commit_data.filter(items=['path', 'author'])\n",
    "commit_data['path'] = commit_data.path.apply(lambda x: x.split('.')[-1])\n",
    "commit_data.head()"
   ]
  },
  {
   "cell_type": "code",
   "execution_count": 101,
   "metadata": {},
   "outputs": [
    {
     "data": {
      "text/plain": [
       "72764"
      ]
     },
     "execution_count": 101,
     "metadata": {},
     "output_type": "execute_result"
    }
   ],
   "source": [
    "#amount  files java in total \n",
    "total=commit_data.path.str.contains(r'java').sum()\n",
    "total"
   ]
  },
  {
   "cell_type": "code",
   "execution_count": 102,
   "metadata": {},
   "outputs": [],
   "source": [
    "#amount  files java BY author  \n",
    "\n",
    "#author=commit_data.author.str.contains(r'Andrew Audibert').sum()\n",
    "#author"
   ]
  },
  {
   "cell_type": "code",
   "execution_count": 103,
   "metadata": {},
   "outputs": [
    {
     "data": {
      "text/plain": [
       "6723"
      ]
     },
     "execution_count": 103,
     "metadata": {},
     "output_type": "execute_result"
    }
   ],
   "source": [
    "#BY author  by Author  Java\n",
    "\n",
    "author = commit_data[commit_data['path'].str.contains('java') & commit_data['author'].str.contains('Andrew Audibert')]\n",
    "#author=commit_data.author.str.contains(r'Andrew Audibert').sum()\n",
    "author=author.author.str.contains('Andrew Audibert').sum()\n",
    "author"
   ]
  },
  {
   "cell_type": "code",
   "execution_count": 104,
   "metadata": {},
   "outputs": [
    {
     "data": {
      "text/plain": [
       "9.24"
      ]
     },
     "execution_count": 104,
     "metadata": {},
     "output_type": "execute_result"
    }
   ],
   "source": [
    "Java=round((author/ total)*100, 2)\n",
    "Java"
   ]
  },
  {
   "cell_type": "code",
   "execution_count": 105,
   "metadata": {},
   "outputs": [
    {
     "data": {
      "text/plain": [
       "110"
      ]
     },
     "execution_count": 105,
     "metadata": {},
     "output_type": "execute_result"
    }
   ],
   "source": [
    "#amount  files GO in total \n",
    "total=commit_data.path.str.contains(r'go').sum()\n",
    "total\n"
   ]
  },
  {
   "cell_type": "code",
   "execution_count": 106,
   "metadata": {},
   "outputs": [
    {
     "data": {
      "text/plain": [
       "103"
      ]
     },
     "execution_count": 106,
     "metadata": {},
     "output_type": "execute_result"
    }
   ],
   "source": [
    "#amount  files GO by Author \n",
    "author = commit_data[commit_data['path'].str.contains('go') & commit_data['author'].str.contains('Andrew Audibert')]\n",
    "#author=commit_data.author.str.contains(r'Andrew Audibert').sum()\n",
    "author=author.author.str.contains('Andrew Audibert').sum()\n",
    "author"
   ]
  },
  {
   "cell_type": "code",
   "execution_count": 107,
   "metadata": {},
   "outputs": [
    {
     "data": {
      "text/plain": [
       "93.64"
      ]
     },
     "execution_count": 107,
     "metadata": {},
     "output_type": "execute_result"
    }
   ],
   "source": [
    "Go=round((author/ total)*100, 2)\n",
    "Go"
   ]
  },
  {
   "cell_type": "code",
   "execution_count": 108,
   "metadata": {},
   "outputs": [
    {
     "data": {
      "text/plain": [
       "108"
      ]
     },
     "execution_count": 108,
     "metadata": {},
     "output_type": "execute_result"
    }
   ],
   "source": [
    "#Export results \n",
    "commit_data.to_csv(\"resultt.csv\",index=False)\n",
    "\n",
    "#amount  files CSS in total \n",
    "total=commit_data.path.str.contains(r'css').sum()\n",
    "total\n"
   ]
  },
  {
   "cell_type": "code",
   "execution_count": 109,
   "metadata": {},
   "outputs": [
    {
     "data": {
      "text/plain": [
       "1"
      ]
     },
     "execution_count": 109,
     "metadata": {},
     "output_type": "execute_result"
    }
   ],
   "source": [
    "#amount  files CSS by Author \n",
    "author = commit_data[commit_data['path'].str.contains('css') & commit_data['author'].str.contains('Andrew Audibert')]\n",
    "#author=commit_data.author.str.contains(r'Andrew Audibert').sum()\n",
    "author=author.author.str.contains('Andrew Audibert').sum()\n",
    "author"
   ]
  },
  {
   "cell_type": "code",
   "execution_count": 110,
   "metadata": {},
   "outputs": [],
   "source": [
    "css=round((author/ total)*100, 2)\n"
   ]
  },
  {
   "cell_type": "code",
   "execution_count": 111,
   "metadata": {},
   "outputs": [],
   "source": [
    "#amount  files HTML in total \n",
    "total=commit_data.path.str.contains(r'html').sum()\n",
    "\n",
    "#amount  files CSS by Author \n",
    "author = commit_data[commit_data['path'].str.contains('html') & commit_data['author'].str.contains('Andrew Audibert')]\n",
    "#author=commit_data.author.str.contains(r'Andrew Audibert').sum()\n",
    "author=author.author.str.contains('Andrew Audibert').sum()"
   ]
  },
  {
   "cell_type": "code",
   "execution_count": 112,
   "metadata": {},
   "outputs": [],
   "source": [
    "html=round((author/ total)*100, 2)\n"
   ]
  },
  {
   "cell_type": "code",
   "execution_count": 113,
   "metadata": {},
   "outputs": [],
   "source": [
    "#amount  files JSP in total \n",
    "total=commit_data.path.str.contains(r'jsp').sum()\n",
    "\n",
    "author = commit_data[commit_data['path'].str.contains('jsp') & commit_data['author'].str.contains('Andrew Audibert')]\n",
    "author=author.author.str.contains('Andrew Audibert').sum()\n",
    "\n",
    "jsp=round((author/ total)*100, 2)\n"
   ]
  },
  {
   "cell_type": "code",
   "execution_count": 114,
   "metadata": {},
   "outputs": [],
   "source": [
    "#amount  files JS in total \n",
    "total=commit_data.path.str.contains(r'js').sum()\n",
    "\n",
    "author = commit_data[commit_data['path'].str.contains('js') & commit_data['author'].str.contains('Andrew Audibert')]\n",
    "author=author.author.str.contains('Andrew Audibert').sum()\n",
    "\n",
    "js=round((author/ total)*100, 2)"
   ]
  },
  {
   "cell_type": "code",
   "execution_count": 115,
   "metadata": {},
   "outputs": [],
   "source": [
    "#amount  files Python in total \n",
    "total=commit_data.path.str.contains(r'py').sum()\n",
    "author = commit_data[commit_data['path'].str.contains('py') & commit_data['author'].str.contains('Andrew Audibert')]\n",
    "author=author.author.str.contains('Andrew Audibert').sum()\n",
    "\n",
    "py=round((author/ total)*100, 2)\n",
    "#print(\"py: \"+py)\n",
    "#total\n",
    "#author"
   ]
  },
  {
   "cell_type": "code",
   "execution_count": 116,
   "metadata": {},
   "outputs": [
    {
     "name": "stderr",
     "output_type": "stream",
     "text": [
      "/home/johnatan/.local/lib/python3.6/site-packages/ipykernel_launcher.py:6: RuntimeWarning: invalid value encountered in long_scalars\n",
      "  \n"
     ]
    }
   ],
   "source": [
    "#amount  files PHP in total \n",
    "total=commit_data.path.str.contains(r'php').sum()\n",
    "author = commit_data[commit_data['path'].str.contains('php') & commit_data['author'].str.contains('Andrew Audibert')]\n",
    "author=author.author.str.contains('Andrew Audibert').sum()\n",
    "\n",
    "php=round((author/ total)*100, 2)\n"
   ]
  },
  {
   "cell_type": "code",
   "execution_count": 117,
   "metadata": {},
   "outputs": [],
   "source": [
    "#amount  files Ruby in total \n",
    "total=commit_data.path.str.contains(r'rb').sum()\n",
    "author = commit_data[commit_data['path'].str.contains('rb') & commit_data['author'].str.contains('Andrew Audibert')]\n",
    "author=author.author.str.contains('Andrew Audibert').sum()\n",
    "\n",
    "rb=round((author/ total)*100, 2)"
   ]
  },
  {
   "cell_type": "code",
   "execution_count": 118,
   "metadata": {},
   "outputs": [],
   "source": [
    "#amount  files C in total \n",
    "total=commit_data.path.str.contains(r'c').sum()\n",
    "author = commit_data[commit_data['path'].str.contains('c') & commit_data['author'].str.contains('Andrew Audibert')]\n",
    "author=author.author.str.contains('Andrew Audibert').sum()\n",
    "\n",
    "c=round((author/ total)*100, 2)"
   ]
  },
  {
   "cell_type": "code",
   "execution_count": 119,
   "metadata": {},
   "outputs": [
    {
     "name": "stderr",
     "output_type": "stream",
     "text": [
      "/home/johnatan/.local/lib/python3.6/site-packages/ipykernel_launcher.py:6: RuntimeWarning: invalid value encountered in long_scalars\n",
      "  \n"
     ]
    }
   ],
   "source": [
    "#amount  files C++ in total \n",
    "total=commit_data.path.str.contains(r'cpp').sum()\n",
    "author = commit_data[commit_data['path'].str.contains('cpp') & commit_data['author'].str.contains('Andrew Audibert')]\n",
    "author=author.author.str.contains('Andrew Audibert').sum()\n",
    "\n",
    "cpp=round((author/ total)*100, 2)"
   ]
  },
  {
   "cell_type": "code",
   "execution_count": 120,
   "metadata": {},
   "outputs": [
    {
     "data": {
      "text/html": [
       "<div>\n",
       "<style scoped>\n",
       "    .dataframe tbody tr th:only-of-type {\n",
       "        vertical-align: middle;\n",
       "    }\n",
       "\n",
       "    .dataframe tbody tr th {\n",
       "        vertical-align: top;\n",
       "    }\n",
       "\n",
       "    .dataframe thead th {\n",
       "        text-align: right;\n",
       "    }\n",
       "</style>\n",
       "<table border=\"1\" class=\"dataframe\">\n",
       "  <thead>\n",
       "    <tr style=\"text-align: right;\">\n",
       "      <th></th>\n",
       "      <th>Name</th>\n",
       "      <th>Language</th>\n",
       "      <th>%</th>\n",
       "    </tr>\n",
       "  </thead>\n",
       "  <tbody>\n",
       "    <tr>\n",
       "      <th>0</th>\n",
       "      <td>Andrew Audibert</td>\n",
       "      <td>Java</td>\n",
       "      <td>9.24</td>\n",
       "    </tr>\n",
       "    <tr>\n",
       "      <th>1</th>\n",
       "      <td>Andrew Audibert</td>\n",
       "      <td>Go</td>\n",
       "      <td>93.64</td>\n",
       "    </tr>\n",
       "    <tr>\n",
       "      <th>2</th>\n",
       "      <td>Andrew Audibert</td>\n",
       "      <td>CSS</td>\n",
       "      <td>0.93</td>\n",
       "    </tr>\n",
       "    <tr>\n",
       "      <th>3</th>\n",
       "      <td>Andrew Audibert</td>\n",
       "      <td>HTML</td>\n",
       "      <td>5.47</td>\n",
       "    </tr>\n",
       "    <tr>\n",
       "      <th>4</th>\n",
       "      <td>Andrew Audibert</td>\n",
       "      <td>JSP</td>\n",
       "      <td>0.90</td>\n",
       "    </tr>\n",
       "    <tr>\n",
       "      <th>5</th>\n",
       "      <td>Andrew Audibert</td>\n",
       "      <td>Javascript</td>\n",
       "      <td>1.03</td>\n",
       "    </tr>\n",
       "    <tr>\n",
       "      <th>6</th>\n",
       "      <td>Andrew Audibert</td>\n",
       "      <td>Python</td>\n",
       "      <td>0.00</td>\n",
       "    </tr>\n",
       "    <tr>\n",
       "      <th>7</th>\n",
       "      <td>Andrew Audibert</td>\n",
       "      <td>PHP</td>\n",
       "      <td>NaN</td>\n",
       "    </tr>\n",
       "    <tr>\n",
       "      <th>8</th>\n",
       "      <td>Andrew Audibert</td>\n",
       "      <td>Ruby</td>\n",
       "      <td>4.90</td>\n",
       "    </tr>\n",
       "    <tr>\n",
       "      <th>9</th>\n",
       "      <td>Andrew Audibert</td>\n",
       "      <td>C</td>\n",
       "      <td>7.10</td>\n",
       "    </tr>\n",
       "    <tr>\n",
       "      <th>10</th>\n",
       "      <td>Andrew Audibert</td>\n",
       "      <td>C++</td>\n",
       "      <td>NaN</td>\n",
       "    </tr>\n",
       "  </tbody>\n",
       "</table>\n",
       "</div>"
      ],
      "text/plain": [
       "               Name    Language      %\n",
       "0   Andrew Audibert        Java   9.24\n",
       "1   Andrew Audibert          Go  93.64\n",
       "2   Andrew Audibert         CSS   0.93\n",
       "3   Andrew Audibert        HTML   5.47\n",
       "4   Andrew Audibert         JSP   0.90\n",
       "5   Andrew Audibert  Javascript   1.03\n",
       "6   Andrew Audibert      Python   0.00\n",
       "7   Andrew Audibert         PHP    NaN\n",
       "8   Andrew Audibert        Ruby   4.90\n",
       "9   Andrew Audibert           C   7.10\n",
       "10  Andrew Audibert         C++    NaN"
      ]
     },
     "execution_count": 120,
     "metadata": {},
     "output_type": "execute_result"
    }
   ],
   "source": [
    "import pandas as pd \n",
    "  \n",
    "# intialise data of lists. \n",
    "data = {'Name':['Andrew Audibert', 'Andrew Audibert', 'Andrew Audibert', 'Andrew Audibert', 'Andrew Audibert', 'Andrew Audibert', 'Andrew Audibert', 'Andrew Audibert', 'Andrew Audibert', 'Andrew Audibert', 'Andrew Audibert'], 'Language':['Java', 'Go', 'CSS', 'HTML','JSP','Javascript','Python','PHP','Ruby','C','C++'],'%':[Java, Go, css, html,jsp,js,py,php,rb,c,cpp]} \n",
    "  \n",
    "# Create DataFrame \n",
    "df = pd.DataFrame(data) \n",
    "\n",
    "\n",
    "import pandas as pd\n",
    "import numpy as np\n",
    "\n",
    "# for column\n",
    "#df['%'] = df['%'].replace(np.nan, 0)\n",
    "# Print the output. \n",
    "df \n",
    "\n"
   ]
  },
  {
   "cell_type": "code",
   "execution_count": 121,
   "metadata": {},
   "outputs": [
    {
     "data": {
      "text/html": [
       "<div>\n",
       "<style scoped>\n",
       "    .dataframe tbody tr th:only-of-type {\n",
       "        vertical-align: middle;\n",
       "    }\n",
       "\n",
       "    .dataframe tbody tr th {\n",
       "        vertical-align: top;\n",
       "    }\n",
       "\n",
       "    .dataframe thead th {\n",
       "        text-align: right;\n",
       "    }\n",
       "</style>\n",
       "<table border=\"1\" class=\"dataframe\">\n",
       "  <thead>\n",
       "    <tr style=\"text-align: right;\">\n",
       "      <th></th>\n",
       "      <th>Name</th>\n",
       "      <th>Language</th>\n",
       "      <th>%</th>\n",
       "    </tr>\n",
       "  </thead>\n",
       "  <tbody>\n",
       "    <tr>\n",
       "      <th>1</th>\n",
       "      <td>Andrew Audibert</td>\n",
       "      <td>Go</td>\n",
       "      <td>93.64</td>\n",
       "    </tr>\n",
       "    <tr>\n",
       "      <th>0</th>\n",
       "      <td>Andrew Audibert</td>\n",
       "      <td>Java</td>\n",
       "      <td>9.24</td>\n",
       "    </tr>\n",
       "    <tr>\n",
       "      <th>9</th>\n",
       "      <td>Andrew Audibert</td>\n",
       "      <td>C</td>\n",
       "      <td>7.10</td>\n",
       "    </tr>\n",
       "    <tr>\n",
       "      <th>3</th>\n",
       "      <td>Andrew Audibert</td>\n",
       "      <td>HTML</td>\n",
       "      <td>5.47</td>\n",
       "    </tr>\n",
       "    <tr>\n",
       "      <th>8</th>\n",
       "      <td>Andrew Audibert</td>\n",
       "      <td>Ruby</td>\n",
       "      <td>4.90</td>\n",
       "    </tr>\n",
       "    <tr>\n",
       "      <th>5</th>\n",
       "      <td>Andrew Audibert</td>\n",
       "      <td>Javascript</td>\n",
       "      <td>1.03</td>\n",
       "    </tr>\n",
       "    <tr>\n",
       "      <th>2</th>\n",
       "      <td>Andrew Audibert</td>\n",
       "      <td>CSS</td>\n",
       "      <td>0.93</td>\n",
       "    </tr>\n",
       "    <tr>\n",
       "      <th>4</th>\n",
       "      <td>Andrew Audibert</td>\n",
       "      <td>JSP</td>\n",
       "      <td>0.90</td>\n",
       "    </tr>\n",
       "    <tr>\n",
       "      <th>6</th>\n",
       "      <td>Andrew Audibert</td>\n",
       "      <td>Python</td>\n",
       "      <td>0.00</td>\n",
       "    </tr>\n",
       "    <tr>\n",
       "      <th>7</th>\n",
       "      <td>Andrew Audibert</td>\n",
       "      <td>PHP</td>\n",
       "      <td>NaN</td>\n",
       "    </tr>\n",
       "    <tr>\n",
       "      <th>10</th>\n",
       "      <td>Andrew Audibert</td>\n",
       "      <td>C++</td>\n",
       "      <td>NaN</td>\n",
       "    </tr>\n",
       "  </tbody>\n",
       "</table>\n",
       "</div>"
      ],
      "text/plain": [
       "               Name    Language      %\n",
       "1   Andrew Audibert          Go  93.64\n",
       "0   Andrew Audibert        Java   9.24\n",
       "9   Andrew Audibert           C   7.10\n",
       "3   Andrew Audibert        HTML   5.47\n",
       "8   Andrew Audibert        Ruby   4.90\n",
       "5   Andrew Audibert  Javascript   1.03\n",
       "2   Andrew Audibert         CSS   0.93\n",
       "4   Andrew Audibert         JSP   0.90\n",
       "6   Andrew Audibert      Python   0.00\n",
       "7   Andrew Audibert         PHP    NaN\n",
       "10  Andrew Audibert         C++    NaN"
      ]
     },
     "execution_count": 121,
     "metadata": {},
     "output_type": "execute_result"
    }
   ],
   "source": [
    "final_df=df.sort_values(by=['%'], ascending=False)\n",
    "final_df"
   ]
  },
  {
   "cell_type": "code",
   "execution_count": 122,
   "metadata": {},
   "outputs": [
    {
     "data": {
      "text/plain": [
       "Name\n",
       "Andrew Audibert    11\n",
       "dtype: int64"
      ]
     },
     "execution_count": 122,
     "metadata": {},
     "output_type": "execute_result"
    }
   ],
   "source": [
    "df.groupby('Name').size()\n"
   ]
  },
  {
   "cell_type": "code",
   "execution_count": null,
   "metadata": {},
   "outputs": [],
   "source": []
  }
 ],
 "metadata": {
  "kernelspec": {
   "display_name": "Python 3",
   "language": "python",
   "name": "python3"
  },
  "language_info": {
   "codemirror_mode": {
    "name": "ipython",
    "version": 3
   },
   "file_extension": ".py",
   "mimetype": "text/x-python",
   "name": "python",
   "nbconvert_exporter": "python",
   "pygments_lexer": "ipython3",
   "version": "3.6.9"
  }
 },
 "nbformat": 4,
 "nbformat_minor": 4
}
