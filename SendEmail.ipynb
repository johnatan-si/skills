{
 "cells": [
  {
   "cell_type": "code",
   "execution_count": 12,
   "metadata": {},
   "outputs": [
    {
     "name": "stderr",
     "output_type": "stream",
     "text": [
      "usage: ipykernel_launcher.py [--auth_host_name AUTH_HOST_NAME]\n",
      "                             [--noauth_local_webserver]\n",
      "                             [--auth_host_port [AUTH_HOST_PORT [AUTH_HOST_PORT ...]]]\n",
      "                             [--logging_level {DEBUG,INFO,WARNING,ERROR,CRITICAL}]\n",
      "ipykernel_launcher.py: error: unrecognized arguments: -f /home/johnatan/.local/share/jupyter/runtime/kernel-0fed1549-20f8-4e39-bec5-69041b4c7bfd.json\n"
     ]
    },
    {
     "ename": "SystemExit",
     "evalue": "2",
     "output_type": "error",
     "traceback": [
      "An exception has occurred, use %tb to see the full traceback.\n",
      "\u001b[0;31mSystemExit\u001b[0m\u001b[0;31m:\u001b[0m 2\n"
     ]
    }
   ],
   "source": [
    "import base64\n",
    "import httplib2\n",
    "\n",
    "from email.mime.text import MIMEText\n",
    "\n",
    "from apiclient.discovery import build\n",
    "from oauth2client.client import flow_from_clientsecrets\n",
    "from oauth2client.file import Storage\n",
    "#from oauth2client.tools import run\n",
    "\n",
    "from oauth2client import tools\n",
    "\n",
    "\n",
    "\n",
    "# Path to the client_secret.json file downloaded from the Developer Console\n",
    "CLIENT_SECRET_FILE = '/media/johnatan/SAMSUNG/toSend/labsoftcredentials.json'\n",
    "\n",
    "# Check https://developers.google.com/gmail/api/auth/scopes for all available scopes\n",
    "OAUTH_SCOPE = 'https://www.googleapis.com/auth/gmail.compose'\n",
    "\n",
    "# Location of the credentials storage file\n",
    "STORAGE = Storage('gmail.storage')\n",
    "\n",
    "# Start the OAuth flow to retrieve credentials\n",
    "flow = flow_from_clientsecrets(CLIENT_SECRET_FILE, scope=OAUTH_SCOPE)\n",
    "http = httplib2.Http()\n",
    "\n",
    "# Try to retrieve credentials from storage or run the flow to generate them\n",
    "credentials = STORAGE.get()\n",
    "if credentials is None or credentials.invalid:\n",
    "    #credentials = run(flow, STORAGE, http=http)\n",
    "    credentials = tools.run_flow(flow, STORAGE, http=http)\n",
    "\n",
    "\n",
    "# Authorize the httplib2.Http object with our credentials\n",
    "http = credentials.authorize(http)\n",
    "\n",
    "# Build the Gmail service from discovery\n",
    "gmail_service = build('gmail', 'v1', http=http)\n",
    "\n",
    "# create a message to send\n",
    "message = MIMEText(\"Message goes here.\")\n",
    "message['to'] = \"johnatan-si@hotmail.com\"\n",
    "message['from'] = \"labsoftufmg@gmail.com\"\n",
    "message['subject'] = \"your subject goes here\"\n",
    "body = {'raw': base64.b64encode(message.as_string())}\n",
    "\n",
    "# send it\n",
    "try:\n",
    "    message = (gmail_service.users().messages().send(userId=\"me\", body=body).execute())\n",
    "    print('Message Id: %s' % message['id'])\n",
    "    print(message)\n",
    "except Exception as error:\n",
    "    print('An error occurred: %s' % error)"
   ]
  }
 ],
 "metadata": {
  "kernelspec": {
   "display_name": "Python 3",
   "language": "python",
   "name": "python3"
  },
  "language_info": {
   "codemirror_mode": {
    "name": "ipython",
    "version": 3
   },
   "file_extension": ".py",
   "mimetype": "text/x-python",
   "name": "python",
   "nbconvert_exporter": "python",
   "pygments_lexer": "ipython3",
   "version": "3.6.9"
  }
 },
 "nbformat": 4,
 "nbformat_minor": 4
}
