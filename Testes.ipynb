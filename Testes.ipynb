{
 "cells": [
  {
   "cell_type": "code",
   "execution_count": 123,
   "metadata": {
    "scrolled": true
   },
   "outputs": [
    {
     "name": "stdout",
     "output_type": "stream",
     "text": [
      "*** Program Started ***\n",
      "List of Files using os.walk: ['SessionRollup.java', 'WordCountOutput.java', 'GenerateProfiles.java', 'SparkSessionRollup.java', 'AggregateIntInput.java', 'ExternalJoin.java', 'WordCountInput.java', 'AerospikeLogger.java', 'AerospikeSplit.java', 'AerospikeKey.java', 'AerospikeRecordWriter.java', 'AerospikeRecord.java', 'AerospikeConfigUtil.java', 'AerospikeRecordReader.java', 'AerospikeInputFormat.java', 'AerospikeOutputFormat.java', 'AerospikeClientSingleton.java', 'AerospikeConfigEnum.java', 'SampleData.java']\n"
     ]
    }
   ],
   "source": [
    "################################################################################################\n",
    "# name: testes\n",
    "# desc: \n",
    "# date: 2020-06-11\n",
    "# Author: johnatan\n",
    "################################################################################################\n",
    "import os\n",
    "import glob\n",
    "import pandas as pd\n",
    "\n",
    "\n",
    "os.chdir(\"/home/johnatan/Downloads/projects/\")\n",
    "\n",
    "print(\"*** Program Started ***\")\n",
    "\n",
    "dir_name = 'aerospike-hadoop/'\n",
    "\n",
    "matches = []\n",
    "for root, dirnames, filenames in os.walk(dir_name):\n",
    "\tfor filename in filenames:\n",
    "\t\t# if filename.endswith(('.txt', '.MOV', '.avi', '.mpg')):  ## Checking for multiple extenstions\n",
    "\t\tif filename.endswith(('.cpp','.java','.py','.css')):\n",
    "\t\t\tmatches.append(filename)\n",
    "\n",
    "print(\"List of Files using os.walk:\", matches)\n",
    "\n",
    "\n",
    "#import os\n",
    "#x = os.listdir(r\"/home/johnatan/Downloads/projects/740project/\")\n",
    "#print (x)\n",
    "#for i in x:\n",
    "#  print(i)\n",
    "\n",
    "#git whatchanged --author=xcv58 --name-only --oneline\n",
    "#git blame HEAD -- sentimentAnalysis/CalculateSentiment.java\n"
   ]
  },
  {
   "cell_type": "code",
   "execution_count": 124,
   "metadata": {},
   "outputs": [
    {
     "data": {
      "text/plain": [
       "19"
      ]
     },
     "execution_count": 124,
     "metadata": {},
     "output_type": "execute_result"
    }
   ],
   "source": [
    "#git blame HEAD -- sentimentAnalysis/CalculateSentiment.java\n",
    "len(matches)"
   ]
  },
  {
   "cell_type": "code",
   "execution_count": 125,
   "metadata": {},
   "outputs": [
    {
     "data": {
      "text/html": [
       "<div>\n",
       "<style scoped>\n",
       "    .dataframe tbody tr th:only-of-type {\n",
       "        vertical-align: middle;\n",
       "    }\n",
       "\n",
       "    .dataframe tbody tr th {\n",
       "        vertical-align: top;\n",
       "    }\n",
       "\n",
       "    .dataframe thead th {\n",
       "        text-align: right;\n",
       "    }\n",
       "</style>\n",
       "<table border=\"1\" class=\"dataframe\">\n",
       "  <thead>\n",
       "    <tr style=\"text-align: right;\">\n",
       "      <th></th>\n",
       "      <th>0</th>\n",
       "    </tr>\n",
       "  </thead>\n",
       "  <tbody>\n",
       "    <tr>\n",
       "      <th>0</th>\n",
       "      <td>SessionRollup.java</td>\n",
       "    </tr>\n",
       "    <tr>\n",
       "      <th>1</th>\n",
       "      <td>WordCountOutput.java</td>\n",
       "    </tr>\n",
       "    <tr>\n",
       "      <th>2</th>\n",
       "      <td>GenerateProfiles.java</td>\n",
       "    </tr>\n",
       "    <tr>\n",
       "      <th>3</th>\n",
       "      <td>SparkSessionRollup.java</td>\n",
       "    </tr>\n",
       "    <tr>\n",
       "      <th>4</th>\n",
       "      <td>AggregateIntInput.java</td>\n",
       "    </tr>\n",
       "    <tr>\n",
       "      <th>5</th>\n",
       "      <td>ExternalJoin.java</td>\n",
       "    </tr>\n",
       "    <tr>\n",
       "      <th>6</th>\n",
       "      <td>WordCountInput.java</td>\n",
       "    </tr>\n",
       "    <tr>\n",
       "      <th>7</th>\n",
       "      <td>AerospikeLogger.java</td>\n",
       "    </tr>\n",
       "    <tr>\n",
       "      <th>8</th>\n",
       "      <td>AerospikeSplit.java</td>\n",
       "    </tr>\n",
       "    <tr>\n",
       "      <th>9</th>\n",
       "      <td>AerospikeKey.java</td>\n",
       "    </tr>\n",
       "    <tr>\n",
       "      <th>10</th>\n",
       "      <td>AerospikeRecordWriter.java</td>\n",
       "    </tr>\n",
       "    <tr>\n",
       "      <th>11</th>\n",
       "      <td>AerospikeRecord.java</td>\n",
       "    </tr>\n",
       "    <tr>\n",
       "      <th>12</th>\n",
       "      <td>AerospikeConfigUtil.java</td>\n",
       "    </tr>\n",
       "    <tr>\n",
       "      <th>13</th>\n",
       "      <td>AerospikeRecordReader.java</td>\n",
       "    </tr>\n",
       "    <tr>\n",
       "      <th>14</th>\n",
       "      <td>AerospikeInputFormat.java</td>\n",
       "    </tr>\n",
       "    <tr>\n",
       "      <th>15</th>\n",
       "      <td>AerospikeOutputFormat.java</td>\n",
       "    </tr>\n",
       "    <tr>\n",
       "      <th>16</th>\n",
       "      <td>AerospikeClientSingleton.java</td>\n",
       "    </tr>\n",
       "    <tr>\n",
       "      <th>17</th>\n",
       "      <td>AerospikeConfigEnum.java</td>\n",
       "    </tr>\n",
       "    <tr>\n",
       "      <th>18</th>\n",
       "      <td>SampleData.java</td>\n",
       "    </tr>\n",
       "  </tbody>\n",
       "</table>\n",
       "</div>"
      ],
      "text/plain": [
       "                                0\n",
       "0              SessionRollup.java\n",
       "1            WordCountOutput.java\n",
       "2           GenerateProfiles.java\n",
       "3         SparkSessionRollup.java\n",
       "4          AggregateIntInput.java\n",
       "5               ExternalJoin.java\n",
       "6             WordCountInput.java\n",
       "7            AerospikeLogger.java\n",
       "8             AerospikeSplit.java\n",
       "9               AerospikeKey.java\n",
       "10     AerospikeRecordWriter.java\n",
       "11           AerospikeRecord.java\n",
       "12       AerospikeConfigUtil.java\n",
       "13     AerospikeRecordReader.java\n",
       "14      AerospikeInputFormat.java\n",
       "15     AerospikeOutputFormat.java\n",
       "16  AerospikeClientSingleton.java\n",
       "17       AerospikeConfigEnum.java\n",
       "18                SampleData.java"
      ]
     },
     "execution_count": 125,
     "metadata": {},
     "output_type": "execute_result"
    }
   ],
   "source": [
    "# Creating a dataframe object from listoftuples\n",
    "matches = pd.DataFrame(matches) \n",
    "matches"
   ]
  },
  {
   "cell_type": "code",
   "execution_count": 126,
   "metadata": {
    "scrolled": true
   },
   "outputs": [
    {
     "name": "stdout",
     "output_type": "stream",
     "text": [
      "\r\n",
      "build.gradle\r\n",
      "examples/aggregate_int_input/build.gradle\r\n",
      "examples/aggregate_int_input/pom.xml\r\n",
      "examples/aggregate_int_input/src/main/java/com/aerospike/hadoop/examples/aggregateintinput/AggregateIntInput.java\r\n",
      "examples/aggregate_int_input/src/main/resources/commons-logging.properties\r\n",
      "examples/aggregate_int_input/src/main/resources/log4j.properties\r\n",
      "examples/build.gradle\r\n",
      "examples/external_join/build.gradle\r\n",
      "examples/external_join/pom.xml\r\n",
      "examples/external_join/src/main/java/com/aerospike/hadoop/examples/externaljoin/ExternalJoin.java\r\n",
      "examples/external_join/src/main/resources/commons-logging.properties\r\n",
      "examples/external_join/src/main/resources/log4j.properties\r\n",
      "examples/generate_profiles/build.gradle\r\n",
      "examples/generate_profiles/pom.xml\r\n",
      "examples/generate_profiles/src/main/java/com/aerospike/hadoop/examples/generateprofiles/GenerateProfiles.java\r\n",
      "examples/generate_profiles/src/main/resources/commons-logging.properties\r\n",
      "examples/generate_profiles/src/main/resources/log4j.properties\r\n",
      "examples/int_sum/build.gradle\r\n",
      "examples/int_sum_input/build.gradle\r\n",
      "examples/int_sum_input/src/main/java/com/aerospike/hadoop/examples/intsuminput/IntSumInput.java\r\n",
      "examples/int_sum_input/src/main/resources/commons-logging.properties\r\n",
      "examples/int_sum_input/src/main/resources/log4j.properties\r\n",
      "examples/int_sum/src/main/java/com/aerospike/hadoop/examples/intsum/IntSum.java\r\n",
      "examples/int_sum/src/main/resources/commons-logging.properties\r\n",
      "examples/int_sum/src/main/resources/log4j.properties\r\n",
      "examples/pom.xml\r\n",
      "examples/session_rollup/build.gradle\r\n",
      "examples/session_rollup/pom.xml\r\n",
      "examples/session_rollup/src/main/java/com/aerospike/hadoop/examples/sessionrollup/SessionRollup.java\r\n",
      "examples/session_rollup/src/main/resources/commons-logging.properties\r\n",
      "examples/session_rollup/src/main/resources/log4j.properties\r\n",
      "examples/spark_session_rollup/pom.xml\r\n",
      "examples/spark_session_rollup/src/main/java/com/aerospike/spark/examples/SparkSessionRollup.java\r\n",
      "examples/word_count/build.gradle\r\n",
      "examples/word_count_input/build.gradle\r\n",
      "examples/word_count_input/pom.xml\r\n",
      "examples/word_count_input/src/main/java/com/aerospike/hadoop/examples/wordcountinput/WordCountInput.java\r\n",
      "examples/word_count_input/src/main/resources/commons-logging.properties\r\n",
      "examples/word_count_input/src/main/resources/log4j.properties\r\n",
      "examples/word_count_output/build.gradle\r\n",
      "examples/word_count_output/pom.xml\r\n",
      "examples/word_count_output/src/main/java/com/aerospike/hadoop/examples/wordcountoutput/WordCountOutput.java\r\n",
      "examples/word_count_output/src/main/resources/commons-logging.properties\r\n",
      "examples/word_count_output/src/main/resources/log4j.properties\r\n",
      "examples/word_count/src/main/java/com/aerospike/hadoop/examples/wordcount/WordCount.java\r\n",
      "examples/word_count/src/main/resources/commons-logging.properties\r\n",
      "examples/word_count/src/main/resources/log4j.properties\r\n",
      ".gitignore\r\n",
      "gradlew\r\n",
      "gradlew.bat\r\n",
      "gradle/wrapper/gradle-wrapper.jar\r\n",
      "gradle/wrapper/gradle-wrapper.properties\r\n",
      "LICENSE\r\n",
      "mapreduce/build.gradle\r\n",
      "mapreduce/pom.xml\r\n",
      "mapreduce/src/main/java/com/aerospike/hadoop/mapreduce/AerospikeClientSingleton.java\r\n",
      "mapreduce/src/main/java/com/aerospike/hadoop/mapreduce/AerospikeConfigUtil.java\r\n",
      "mapreduce/src/main/java/com/aerospike/hadoop/mapreduce/AerospikeInputFormat.java\r\n",
      "mapreduce/src/main/java/com/aerospike/hadoop/mapreduce/AerospikeKey.java\r\n",
      "mapreduce/src/main/java/com/aerospike/hadoop/mapreduce/AerospikeLogger.java\r\n",
      "mapreduce/src/main/java/com/aerospike/hadoop/mapreduce/AerospikeLongInputFormat.java\r\n",
      "mapreduce/src/main/java/com/aerospike/hadoop/mapreduce/AerospikeOutputFormat.java\r\n",
      "mapreduce/src/main/java/com/aerospike/hadoop/mapreduce/AerospikeRecord.java\r\n",
      "mapreduce/src/main/java/com/aerospike/hadoop/mapreduce/AerospikeRecordReader.java\r\n",
      "mapreduce/src/main/java/com/aerospike/hadoop/mapreduce/AerospikeRecordWriter.java\r\n",
      "mapreduce/src/main/java/com/aerospike/hadoop/mapreduce/AerospikeSplit.java\r\n",
      "mapreduce/src/main/java/com/aerospike/hadoop/mapreduce/AerospikeTextInputFormat.java\r\n",
      "mapreduce/src/main/java/com/aerospike/hadoop/mapreduce/AerospikeTextRecordReader.java\r\n",
      "pom.xml\r\n",
      "README.md\r\n",
      "sampledata/build.gradle\r\n",
      "sampledata/pom.xml\r\n",
      "sampledata/src/main/java/com/aerospike/hadoop/sampledata/SampleData.java\r\n",
      "sampledata/src/main/resources/commons-logging.properties\r\n",
      "sampledata/src/main/resources/log4j.properties\r\n",
      "settings.gradle\r\n",
      "TODO.md\r\n",
      "WORLDCUP_FILELIST\r\n"
     ]
    }
   ],
   "source": [
    "os.chdir(\"/home/johnatan/Downloads/projects/aerospike-hadoop/\")\n",
    "#!git log --no-merges --author=\"Ken Sedgwick\" --name-only --pretty=format:\"\" | sort -u\n",
    "#!git log --no-merges --author=\"Ken Sedgwick\" --name-only --stat --pretty=short --graph   \n",
    "#!git --git-dir <path to repository> log --name-only --pretty=format:\"]]></files>%n</commit>%n<commit>%n<repo>REPONAME</repo>%n<hash>%H</hash>%n<author>%an</author>%n<dt>%ct</dt>%n<subject><![CDATA[%s]]></subject>%n<files><![CDATA[\" | Out-File REPONAME.xml\n",
    "\n",
    "#!git log --no-merges --author=\"Ken Sedgwick\" --name-only --pretty=format:\"\" | sort -u\n",
    "\n",
    "#!git log --graph --pretty=format:'%Cred%h%Creset -%C(yellow)%d%Creset %s %Cgreen(%cr) %C(bold blue)<%an>%Creset' --abbrev-commit\n",
    "\n",
    "    \n",
    "#!git log --graph --author=\"Ken Sedgwick\" --pretty=format:'%Cred%h%Creset -%C(yellow)%d%Creset %s %Cgreen(%cr) %C(bold blue)<%an>%Creset' --abbrev-commit\n",
    "\n",
    "#!git log --graph --author=\"Ken Sedgwick\" --pretty=format:'%Cred%h%Creset -%C(yellow)%d%Creset %s %Cgreen(%cr) %C(bold blue)<%an>%Creset' --name-only\n",
    "\n",
    "#!git log --no-merges --author=\"Ken Sedgwick\" --grep=\".\" --name-only --pretty=format:\"\" | sort -u \n",
    "\n",
    "#!git log --name-only --oneline\n",
    "\n",
    "#!git log --name-status master  --author=\"Ken Sedgwick\" | grep -E '^[A-Z]\\b' | sort -k 2,2 -u >ttttttttttttt.txt\n",
    "\n",
    "#!git log --name-only --oneline | grep -v '.{7} ' | uniq\n",
    "\n",
    "#!git log --name-only --oneline | grep -v '.{7} '\n",
    "\n",
    "#!git log --oneline master\n",
    "\n",
    "#!git log --stat --oneline\n",
    "\n",
    "#!git whatchanged --stat\n",
    "\n",
    "\n",
    "#Todos os aquivos de um determinado repositorio \n",
    "!git log --name-only --pretty=format:\"\" | sort -u >allFIle.txt\n",
    "\n",
    "#Todos os arquivos que um desenvolvedor especifico modificou \n",
    "!git log --no-merges --author=\"Ken Sedgwick\" --grep=\".\" --name-only --pretty=format:\"\" | sort -u \n",
    "\n",
    "\n",
    "\n",
    "\n"
   ]
  },
  {
   "cell_type": "code",
   "execution_count": 127,
   "metadata": {},
   "outputs": [
    {
     "name": "stdout",
     "output_type": "stream",
     "text": [
      "\r\n",
      "build.gradle\r\n",
      "data/worldcup\r\n",
      "examples/aggregate_int_input/build.gradle\r\n",
      "examples/aggregate_int_input/pom.xml\r\n",
      "examples/aggregate_int_input/src/main/java/com/aerospike/hadoop/examples/aggregateintinput/AggregateIntInput.java\r\n",
      "examples/aggregate_int_input/src/main/resources/commons-logging.properties\r\n",
      "examples/aggregate_int_input/src/main/resources/log4j.properties\r\n",
      "examples/build.gradle\r\n",
      "examples/external_join/build.gradle\r\n",
      "examples/external_join/pom.xml\r\n",
      "examples/external_join/src/main/java/com/aerospike/hadoop/examples/externaljoin/ExternalJoin.java\r\n",
      "examples/external_join/src/main/resources/commons-logging.properties\r\n",
      "examples/external_join/src/main/resources/log4j.properties\r\n",
      "examples/generate_profiles/build.gradle\r\n",
      "examples/generate_profiles/pom.xml\r\n",
      "examples/generate_profiles/src/main/java/com/aerospike/hadoop/examples/generateprofiles/GenerateProfiles.java\r\n",
      "examples/generate_profiles/src/main/resources/commons-logging.properties\r\n",
      "examples/generate_profiles/src/main/resources/log4j.properties\r\n",
      "examples/int_sum/build.gradle\r\n",
      "examples/int_sum_input/build.gradle\r\n",
      "examples/int_sum_input/src/main/java/com/aerospike/hadoop/examples/intsuminput/IntSumInput.java\r\n",
      "examples/int_sum_input/src/main/resources/commons-logging.properties\r\n",
      "examples/int_sum_input/src/main/resources/log4j.properties\r\n",
      "examples/int_sum/src/main/java/com/aerospike/hadoop/examples/intsum/IntSum.java\r\n",
      "examples/int_sum/src/main/resources/commons-logging.properties\r\n",
      "examples/int_sum/src/main/resources/log4j.properties\r\n",
      "examples/pom.xml\r\n",
      "examples/session_rollup/build.gradle\r\n",
      "examples/session_rollup/pom.xml\r\n",
      "examples/session_rollup/src/main/java/com/aerospike/hadoop/examples/sessionrollup/SessionRollup.java\r\n",
      "examples/session_rollup/src/main/resources/commons-logging.properties\r\n",
      "examples/session_rollup/src/main/resources/log4j.properties\r\n",
      "examples/spark_session_rollup/build.gradle\r\n",
      "examples/spark_session_rollup/pom.xml\r\n",
      "examples/spark_session_rollup/src/main/java/com/aerospike/spark/examples/SparkSessionRollup.java\r\n",
      "examples/word_count/build.gradle\r\n",
      "examples/word_count_input/build.gradle\r\n",
      "examples/word_count_input/pom.xml\r\n",
      "examples/word_count_input/src/main/java/com/aerospike/hadoop/examples/wordcountinput/WordCountInput.java\r\n",
      "examples/word_count_input/src/main/resources/commons-logging.properties\r\n",
      "examples/word_count_input/src/main/resources/log4j.properties\r\n",
      "examples/word_count_output/build.gradle\r\n",
      "examples/word_count_output/pom.xml\r\n",
      "examples/word_count_output/src/main/java/com/aerospike/hadoop/examples/wordcountoutput/WordCountOutput.java\r\n",
      "examples/word_count_output/src/main/resources/commons-logging.properties\r\n",
      "examples/word_count_output/src/main/resources/log4j.properties\r\n",
      "examples/word_count/src/main/java/com/aerospike/hadoop/examples/wordcount/WordCount.java\r\n",
      "examples/word_count/src/main/resources/commons-logging.properties\r\n",
      "examples/word_count/src/main/resources/log4j.properties\r\n",
      ".gitignore\r\n",
      "gradlew\r\n",
      "gradlew.bat\r\n",
      "gradle/wrapper/gradle-wrapper.jar\r\n",
      "gradle/wrapper/gradle-wrapper.properties\r\n",
      "LICENSE\r\n",
      "mapreduce/build.gradle\r\n",
      "mapreduce/pom.xml\r\n",
      "mapreduce/src/main/java/com/aerospike/hadoop/mapreduce/AerospikeClientSingleton.java\r\n",
      "mapreduce/src/main/java/com/aerospike/hadoop/mapreduce/AerospikeConfigEnum.java\r\n",
      "mapreduce/src/main/java/com/aerospike/hadoop/mapreduce/AerospikeConfigUtil.java\r\n",
      "mapreduce/src/main/java/com/aerospike/hadoop/mapreduce/AerospikeInputFormat.java\r\n",
      "mapreduce/src/main/java/com/aerospike/hadoop/mapreduce/AerospikeKey.java\r\n",
      "mapreduce/src/main/java/com/aerospike/hadoop/mapreduce/AerospikeLogger.java\r\n",
      "mapreduce/src/main/java/com/aerospike/hadoop/mapreduce/AerospikeLongInputFormat.java\r\n",
      "mapreduce/src/main/java/com/aerospike/hadoop/mapreduce/AerospikeOutputFormat.java\r\n",
      "mapreduce/src/main/java/com/aerospike/hadoop/mapreduce/AerospikeRecord.java\r\n",
      "mapreduce/src/main/java/com/aerospike/hadoop/mapreduce/AerospikeRecordReader.java\r\n",
      "mapreduce/src/main/java/com/aerospike/hadoop/mapreduce/AerospikeRecordWriter.java\r\n",
      "mapreduce/src/main/java/com/aerospike/hadoop/mapreduce/AerospikeSplit.java\r\n",
      "mapreduce/src/main/java/com/aerospike/hadoop/mapreduce/AerospikeTextInputFormat.java\r\n",
      "mapreduce/src/main/java/com/aerospike/hadoop/mapreduce/AerospikeTextRecordReader.java\r\n",
      "pom.xml\r\n",
      "README.md\r\n",
      "sampledata/build.gradle\r\n",
      "sampledata/pom.xml\r\n",
      "sampledata/src/main/java/com/aerospike/hadoop/sampledata/SampleData.java\r\n",
      "sampledata/src/main/resources/commons-logging.properties\r\n",
      "sampledata/src/main/resources/log4j.properties\r\n",
      "settings.gradle\r\n",
      "TODO.md\r\n",
      "WORLDCUP_FILELIST\r\n"
     ]
    }
   ],
   "source": [
    "#Todos os aquivos de um determinado repositorio \n",
    "!git log --name-only --pretty=format:\"\" | sort -u"
   ]
  },
  {
   "cell_type": "code",
   "execution_count": 128,
   "metadata": {},
   "outputs": [
    {
     "name": "stdout",
     "output_type": "stream",
     "text": [
      "      9 AerospikeTextInputFormat.java\r\n",
      "      9 AerospikeConfigUtil.java\r\n",
      "      8 AerospikeTextRecordReader.java\r\n",
      "      8 AerospikeRecordWriter.java\r\n",
      "      7 SparkSessionRollup.java\r\n",
      "      6 WordCount.java\r\n",
      "      6 AerospikeKey.java\r\n",
      "      5 WordCountOutput.java\r\n",
      "      5 IntSumInput.java\r\n",
      "      5 AerospikeRecord.java\r\n",
      "      4 WordCountInput.java\r\n",
      "      4 IntSum.java\r\n",
      "      4 AggregateIntInput.java\r\n",
      "      4 AerospikeOutputFormat.java\r\n",
      "      3 ExternalJoin.java\r\n",
      "      2 GenerateProfiles.java\r\n",
      "      2 AerospikeLongInputFormat.java\r\n",
      "      2 AerospikeLogger.java\r\n",
      "      2 AerospikeConfigEnum.java\r\n",
      "      2 AerospikeClientSingleton.java\r\n",
      "     21 AerospikeInputFormat.java\r\n",
      "     17 AerospikeRecordReader.java\r\n",
      "     14 SessionRollup.java\r\n",
      "     14 AerospikeSplit.java\r\n",
      "     10 SampleData.java\r\n"
     ]
    }
   ],
   "source": [
    "#Todos os arquivos que um desenvolvedor especifico comitou \n",
    "#!git log --no-merges --author=\"Ken Sedgwick\" --grep=\".\" --name-only --pretty=format:\"\" | sort -u \n",
    "\n",
    "#!git log --name-only --pretty=format:\"The author of %h was %ae on %aD\" -- '*.java'\n",
    "#!git log --name-only --pretty=format: -- '*.java*.md'\n",
    "#git log --pretty=format:\"%h\" --name-only | grep java | awk -F \"/\" '{print $NF}' | sort | uniq -c | sort -r | head -10\n",
    "\n",
    "!git log --pretty=format:\"%h\" --name-only | grep java | awk -F \"/\" '{print $NF}' | sort | uniq -c | sort -r "
   ]
  },
  {
   "cell_type": "code",
   "execution_count": null,
   "metadata": {},
   "outputs": [],
   "source": [
    "!git log --pretty=format:\"%h\" --name-only | grep java | awk -F \"/\" '{print $NF}' | sort | uniq -c | sort -r "
   ]
  },
  {
   "cell_type": "code",
   "execution_count": 129,
   "metadata": {},
   "outputs": [
    {
     "name": "stdout",
     "output_type": "stream",
     "text": [
      "     75 Ken Sedgwick\r\n",
      "      3 Wei-Ling Chu\r\n",
      "      2 Brian Bulkowski\r\n"
     ]
    }
   ],
   "source": [
    "#Quais sao os 3 desenvolvedores mais ativos do projeto \n",
    "!git log --pretty=format:\"%an\" | sort | uniq -c | sort -r | head -3"
   ]
  },
  {
   "cell_type": "code",
   "execution_count": 130,
   "metadata": {},
   "outputs": [
    {
     "name": "stdout",
     "output_type": "stream",
     "text": [
      "+import java.util.ArrayList;\r\n",
      "+\t\tList<Host> aliases = new ArrayList<Host>(addresses.length + 2);\r\n",
      "+import java.util.ArrayList;\r\n",
      "+                new ArrayList<Tuple2<String, Session>>();\r\n",
      "+            ArrayList<Long> tsarray = new ArrayList<Long>();\r\n",
      "+import java.util.ArrayList;\r\n",
      "+            ArrayList<LongWritable> tsarray = new ArrayList<LongWritable>();\r\n",
      "+import java.util.ArrayList;\r\n",
      "+import java.util.ArrayList;\r\n",
      "+\t\t\tArrayList<LongWritable> tsarray = new ArrayList<LongWritable>();\r\n"
     ]
    }
   ],
   "source": [
    "#Quais arquivos possuem ArrayList\n",
    "!git log -p -S \"ArrayList\" | grep \"^+.*ArrayList\" | head -10"
   ]
  },
  {
   "cell_type": "code",
   "execution_count": 131,
   "metadata": {},
   "outputs": [],
   "source": [
    "\n",
    "\n",
    "\n",
    "#df = pd.read_csv('ttttttttttttt.txt', delimiter = \"\\t\", header=None, names=[\"Type\", \"Path\"])\n",
    "\n",
    "#df\n"
   ]
  },
  {
   "cell_type": "code",
   "execution_count": 132,
   "metadata": {},
   "outputs": [
    {
     "name": "stdout",
     "output_type": "stream",
     "text": [
      "\r\n",
      "build.gradle\r\n",
      "examples/aggregate_int_input/build.gradle\r\n",
      "examples/aggregate_int_input/pom.xml\r\n",
      "examples/aggregate_int_input/src/main/java/com/aerospike/hadoop/examples/aggregateintinput/AggregateIntInput.java\r\n",
      "examples/aggregate_int_input/src/main/resources/commons-logging.properties\r\n",
      "examples/aggregate_int_input/src/main/resources/log4j.properties\r\n",
      "examples/build.gradle\r\n",
      "examples/external_join/build.gradle\r\n",
      "examples/external_join/pom.xml\r\n",
      "examples/external_join/src/main/java/com/aerospike/hadoop/examples/externaljoin/ExternalJoin.java\r\n",
      "examples/external_join/src/main/resources/commons-logging.properties\r\n",
      "examples/external_join/src/main/resources/log4j.properties\r\n",
      "examples/generate_profiles/build.gradle\r\n",
      "examples/generate_profiles/pom.xml\r\n",
      "examples/generate_profiles/src/main/java/com/aerospike/hadoop/examples/generateprofiles/GenerateProfiles.java\r\n",
      "examples/generate_profiles/src/main/resources/commons-logging.properties\r\n",
      "examples/generate_profiles/src/main/resources/log4j.properties\r\n",
      "examples/int_sum/build.gradle\r\n",
      "examples/int_sum_input/build.gradle\r\n",
      "examples/int_sum_input/src/main/java/com/aerospike/hadoop/examples/intsuminput/IntSumInput.java\r\n",
      "examples/int_sum_input/src/main/resources/commons-logging.properties\r\n",
      "examples/int_sum_input/src/main/resources/log4j.properties\r\n",
      "examples/int_sum/src/main/java/com/aerospike/hadoop/examples/intsum/IntSum.java\r\n",
      "examples/int_sum/src/main/resources/commons-logging.properties\r\n",
      "examples/int_sum/src/main/resources/log4j.properties\r\n",
      "examples/pom.xml\r\n",
      "examples/session_rollup/build.gradle\r\n",
      "examples/session_rollup/pom.xml\r\n",
      "examples/session_rollup/src/main/java/com/aerospike/hadoop/examples/sessionrollup/SessionRollup.java\r\n",
      "examples/session_rollup/src/main/resources/commons-logging.properties\r\n",
      "examples/session_rollup/src/main/resources/log4j.properties\r\n",
      "examples/spark_session_rollup/pom.xml\r\n",
      "examples/spark_session_rollup/src/main/java/com/aerospike/spark/examples/SparkSessionRollup.java\r\n",
      "examples/word_count/build.gradle\r\n",
      "examples/word_count_input/build.gradle\r\n",
      "examples/word_count_input/pom.xml\r\n",
      "examples/word_count_input/src/main/java/com/aerospike/hadoop/examples/wordcountinput/WordCountInput.java\r\n",
      "examples/word_count_input/src/main/resources/commons-logging.properties\r\n",
      "examples/word_count_input/src/main/resources/log4j.properties\r\n",
      "examples/word_count_output/build.gradle\r\n",
      "examples/word_count_output/pom.xml\r\n",
      "examples/word_count_output/src/main/java/com/aerospike/hadoop/examples/wordcountoutput/WordCountOutput.java\r\n",
      "examples/word_count_output/src/main/resources/commons-logging.properties\r\n",
      "examples/word_count_output/src/main/resources/log4j.properties\r\n",
      "examples/word_count/src/main/java/com/aerospike/hadoop/examples/wordcount/WordCount.java\r\n",
      "examples/word_count/src/main/resources/commons-logging.properties\r\n",
      "examples/word_count/src/main/resources/log4j.properties\r\n",
      ".gitignore\r\n",
      "gradlew\r\n",
      "gradlew.bat\r\n",
      "gradle/wrapper/gradle-wrapper.jar\r\n",
      "gradle/wrapper/gradle-wrapper.properties\r\n",
      "LICENSE\r\n",
      "mapreduce/build.gradle\r\n",
      "mapreduce/pom.xml\r\n",
      "mapreduce/src/main/java/com/aerospike/hadoop/mapreduce/AerospikeClientSingleton.java\r\n",
      "mapreduce/src/main/java/com/aerospike/hadoop/mapreduce/AerospikeConfigUtil.java\r\n",
      "mapreduce/src/main/java/com/aerospike/hadoop/mapreduce/AerospikeInputFormat.java\r\n",
      "mapreduce/src/main/java/com/aerospike/hadoop/mapreduce/AerospikeKey.java\r\n",
      "mapreduce/src/main/java/com/aerospike/hadoop/mapreduce/AerospikeLogger.java\r\n",
      "mapreduce/src/main/java/com/aerospike/hadoop/mapreduce/AerospikeLongInputFormat.java\r\n",
      "mapreduce/src/main/java/com/aerospike/hadoop/mapreduce/AerospikeOutputFormat.java\r\n",
      "mapreduce/src/main/java/com/aerospike/hadoop/mapreduce/AerospikeRecord.java\r\n",
      "mapreduce/src/main/java/com/aerospike/hadoop/mapreduce/AerospikeRecordReader.java\r\n",
      "mapreduce/src/main/java/com/aerospike/hadoop/mapreduce/AerospikeRecordWriter.java\r\n",
      "mapreduce/src/main/java/com/aerospike/hadoop/mapreduce/AerospikeSplit.java\r\n",
      "mapreduce/src/main/java/com/aerospike/hadoop/mapreduce/AerospikeTextInputFormat.java\r\n",
      "mapreduce/src/main/java/com/aerospike/hadoop/mapreduce/AerospikeTextRecordReader.java\r\n",
      "pom.xml\r\n",
      "README.md\r\n",
      "sampledata/build.gradle\r\n",
      "sampledata/pom.xml\r\n",
      "sampledata/src/main/java/com/aerospike/hadoop/sampledata/SampleData.java\r\n",
      "sampledata/src/main/resources/commons-logging.properties\r\n",
      "sampledata/src/main/resources/log4j.properties\r\n",
      "settings.gradle\r\n",
      "TODO.md\r\n",
      "WORLDCUP_FILELIST\r\n"
     ]
    },
    {
     "data": {
      "text/plain": [
       "24"
      ]
     },
     "execution_count": 132,
     "metadata": {},
     "output_type": "execute_result"
    }
   ],
   "source": [
    "!git log  --author=\"Ken Sedgwick\" --name-only --pretty=format:\"\" | sort -u\n",
    "\n",
    "#pd.set_option('display.max_rows', df.shape[0]+1)\n",
    "\n",
    "\n",
    "df = pd.read_csv('test.txt', delimiter = \"\\t\", header=None, names=[\"File\"])\n",
    "\n",
    "df\n",
    "\n",
    "df.File.str.contains(r'.java').sum()\n",
    "\n"
   ]
  },
  {
   "cell_type": "code",
   "execution_count": 133,
   "metadata": {},
   "outputs": [],
   "source": [
    "#df.sort_values(\"File\", inplace = True) \n",
    "\n",
    "#df.drop_duplicates(subset =\"File\",keep = False, inplace = True)\n",
    "#df"
   ]
  },
  {
   "cell_type": "code",
   "execution_count": 134,
   "metadata": {},
   "outputs": [
    {
     "name": "stdout",
     "output_type": "stream",
     "text": [
      ".xml\n"
     ]
    }
   ],
   "source": [
    "x = \"examples/aggregate_int_input/pom.xml\"\n",
    "x=os.path.splitext(x)\n",
    "print(x[1])\n"
   ]
  },
  {
   "cell_type": "code",
   "execution_count": 139,
   "metadata": {},
   "outputs": [],
   "source": [
    "!git log --all --numstat --pretty=format:'--%h--%ad--%aN' --no-renames > git.log \n"
   ]
  },
  {
   "cell_type": "code",
   "execution_count": 136,
   "metadata": {},
   "outputs": [
    {
     "name": "stdout",
     "output_type": "stream",
     "text": [
      "--1b525f9--Fri Dec 16 17:05:36 2016 -0800--mzhangsfly\n",
      "9\t3\tmapreduce/src/main/java/com/aerospike/hadoop/mapreduce/AerospikeSplit.java\n",
      "\n",
      "--d759968--Fri Dec 16 16:32:04 2016 -0800--Michael\n",
      "--49969fd--Wed Dec 14 11:44:35 2016 -0800--Hao Gao\n",
      "1\t0\tmapreduce/src/main/java/com/aerospike/hadoop/mapreduce/AerospikeConfigEnum.java\n",
      "9\t1\tmapreduce/src/main/java/com/aerospike/hadoop/mapreduce/AerospikeConfigUtil.java\n",
      "4\t1\tmapreduce/src/main/java/com/aerospike/hadoop/mapreduce/AerospikeInputFormat.java\n"
     ]
    }
   ],
   "source": [
    "with open (r'git.log') as log:\n",
    "    [print(line, end='') for line in log.readlines()[:8]]"
   ]
  },
  {
   "cell_type": "code",
   "execution_count": 137,
   "metadata": {},
   "outputs": [
    {
     "data": {
      "text/html": [
       "<div>\n",
       "<style scoped>\n",
       "    .dataframe tbody tr th:only-of-type {\n",
       "        vertical-align: middle;\n",
       "    }\n",
       "\n",
       "    .dataframe tbody tr th {\n",
       "        vertical-align: top;\n",
       "    }\n",
       "\n",
       "    .dataframe thead th {\n",
       "        text-align: right;\n",
       "    }\n",
       "</style>\n",
       "<table border=\"1\" class=\"dataframe\">\n",
       "  <thead>\n",
       "    <tr style=\"text-align: right;\">\n",
       "      <th></th>\n",
       "      <th>raw</th>\n",
       "    </tr>\n",
       "  </thead>\n",
       "  <tbody>\n",
       "    <tr>\n",
       "      <th>0</th>\n",
       "      <td>--1b525f9--Fri Dec 16 17:05:36 2016 -0800--mzh...</td>\n",
       "    </tr>\n",
       "    <tr>\n",
       "      <th>1</th>\n",
       "      <td>9\\t3\\tmapreduce/src/main/java/com/aerospike/ha...</td>\n",
       "    </tr>\n",
       "    <tr>\n",
       "      <th>2</th>\n",
       "      <td>--d759968--Fri Dec 16 16:32:04 2016 -0800--Mic...</td>\n",
       "    </tr>\n",
       "    <tr>\n",
       "      <th>3</th>\n",
       "      <td>--49969fd--Wed Dec 14 11:44:35 2016 -0800--Hao...</td>\n",
       "    </tr>\n",
       "    <tr>\n",
       "      <th>4</th>\n",
       "      <td>1\\t0\\tmapreduce/src/main/java/com/aerospike/ha...</td>\n",
       "    </tr>\n",
       "  </tbody>\n",
       "</table>\n",
       "</div>"
      ],
      "text/plain": [
       "                                                 raw\n",
       "0  --1b525f9--Fri Dec 16 17:05:36 2016 -0800--mzh...\n",
       "1  9\\t3\\tmapreduce/src/main/java/com/aerospike/ha...\n",
       "2  --d759968--Fri Dec 16 16:32:04 2016 -0800--Mic...\n",
       "3  --49969fd--Wed Dec 14 11:44:35 2016 -0800--Hao...\n",
       "4  1\\t0\\tmapreduce/src/main/java/com/aerospike/ha..."
      ]
     },
     "execution_count": 137,
     "metadata": {},
     "output_type": "execute_result"
    }
   ],
   "source": [
    "import pandas as pd\n",
    "\n",
    "commits = pd.read_csv(\"git.log\",sep=\"\\u0012\",header=None,names=['raw'])\n",
    "commits.head()"
   ]
  },
  {
   "cell_type": "code",
   "execution_count": 138,
   "metadata": {},
   "outputs": [
    {
     "ename": "NameError",
     "evalue": "name 'git' is not defined",
     "output_type": "error",
     "traceback": [
      "\u001b[0;31m---------------------------------------------------------------------------\u001b[0m",
      "\u001b[0;31mNameError\u001b[0m                                 Traceback (most recent call last)",
      "\u001b[0;32m<ipython-input-138-1bac356dbac9>\u001b[0m in \u001b[0;36m<module>\u001b[0;34m\u001b[0m\n\u001b[1;32m      4\u001b[0m \u001b[0;32mfrom\u001b[0m \u001b[0mio\u001b[0m \u001b[0;32mimport\u001b[0m \u001b[0mStringIO\u001b[0m\u001b[0;34m\u001b[0m\u001b[0;34m\u001b[0m\u001b[0m\n\u001b[1;32m      5\u001b[0m \u001b[0;34m\u001b[0m\u001b[0m\n\u001b[0;32m----> 6\u001b[0;31m commits_raw = pd.read_csv(StringIO(git),sep=\"\\t\",header=None, \n\u001b[0m\u001b[1;32m      7\u001b[0m     \u001b[0mnames\u001b[0m\u001b[0;34m=\u001b[0m\u001b[0;34m[\u001b[0m\u001b[0;34m'additions'\u001b[0m\u001b[0;34m,\u001b[0m \u001b[0;34m'deletions'\u001b[0m\u001b[0;34m,\u001b[0m \u001b[0;34m'filename'\u001b[0m\u001b[0;34m,\u001b[0m \u001b[0;34m'sha'\u001b[0m\u001b[0;34m,\u001b[0m \u001b[0;34m'timestamp'\u001b[0m\u001b[0;34m,\u001b[0m \u001b[0;34m'author'\u001b[0m\u001b[0;34m]\u001b[0m\u001b[0;34m\u001b[0m\u001b[0;34m\u001b[0m\u001b[0m\n\u001b[1;32m      8\u001b[0m     )\n",
      "\u001b[0;31mNameError\u001b[0m: name 'git' is not defined"
     ]
    }
   ],
   "source": [
    "#!git log --pretty=format:%h,%an,%ae,%s\n",
    "\n",
    "import pandas as pd\n",
    "from io import StringIO\n",
    "\n",
    "commits_raw = pd.read_csv(StringIO(git),sep=\"\\t\",header=None, \n",
    "    names=['additions', 'deletions', 'filename', 'sha', 'timestamp', 'author']\n",
    "    )\n",
    "commits_raw.head()\n"
   ]
  },
  {
   "cell_type": "code",
   "execution_count": null,
   "metadata": {},
   "outputs": [],
   "source": []
  },
  {
   "cell_type": "code",
   "execution_count": null,
   "metadata": {},
   "outputs": [],
   "source": []
  }
 ],
 "metadata": {
  "kernelspec": {
   "display_name": "Python 3",
   "language": "python",
   "name": "python3"
  },
  "language_info": {
   "codemirror_mode": {
    "name": "ipython",
    "version": 3
   },
   "file_extension": ".py",
   "mimetype": "text/x-python",
   "name": "python",
   "nbconvert_exporter": "python",
   "pygments_lexer": "ipython3",
   "version": "3.6.9"
  }
 },
 "nbformat": 4,
 "nbformat_minor": 4
}
